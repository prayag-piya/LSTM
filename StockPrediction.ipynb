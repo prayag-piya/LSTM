{
 "cells": [
  {
   "cell_type": "markdown",
   "metadata": {},
   "source": [
    "# Stock Price Analysis\n",
    "In this project we are asked to predict the price certain stock, and the dataset is from yahoo finance "
   ]
  },
  {
   "cell_type": "code",
   "execution_count": 2,
   "metadata": {
    "id": "Qm9yUnpHzm68"
   },
   "outputs": [],
   "source": [
    "import numpy as np\n",
    "import pandas as pd\n",
    "import matplotlib.pyplot as plt\n",
    "import seaborn as sns"
   ]
  },
  {
   "cell_type": "code",
   "execution_count": 214,
   "metadata": {
    "id": "ZtU10SXTz6Jc"
   },
   "outputs": [],
   "source": [
    "df = pd.read_csv(\"NVDA.csv\")"
   ]
  },
  {
   "cell_type": "code",
   "execution_count": 218,
   "metadata": {
    "colab": {
     "base_uri": "https://localhost:8080/",
     "height": 206
    },
    "id": "YQhxjHoy0q0V",
    "outputId": "97cb9c1f-7d10-4e09-d90f-c0ea90647325"
   },
   "outputs": [
    {
     "data": {
      "text/html": [
       "<div>\n",
       "<style scoped>\n",
       "    .dataframe tbody tr th:only-of-type {\n",
       "        vertical-align: middle;\n",
       "    }\n",
       "\n",
       "    .dataframe tbody tr th {\n",
       "        vertical-align: top;\n",
       "    }\n",
       "\n",
       "    .dataframe thead th {\n",
       "        text-align: right;\n",
       "    }\n",
       "</style>\n",
       "<table border=\"1\" class=\"dataframe\">\n",
       "  <thead>\n",
       "    <tr style=\"text-align: right;\">\n",
       "      <th></th>\n",
       "      <th>Date</th>\n",
       "      <th>Open</th>\n",
       "      <th>High</th>\n",
       "      <th>Low</th>\n",
       "      <th>Close</th>\n",
       "      <th>AddjClose</th>\n",
       "      <th>Volume</th>\n",
       "    </tr>\n",
       "  </thead>\n",
       "  <tbody>\n",
       "    <tr>\n",
       "      <th>0</th>\n",
       "      <td>Oct 7, 2024</td>\n",
       "      <td>124.99</td>\n",
       "      <td>130.64</td>\n",
       "      <td>124.95</td>\n",
       "      <td>127.72</td>\n",
       "      <td>127.72</td>\n",
       "      <td>346,250,200</td>\n",
       "    </tr>\n",
       "    <tr>\n",
       "      <th>1</th>\n",
       "      <td>Oct 4, 2024</td>\n",
       "      <td>124.94</td>\n",
       "      <td>125.04</td>\n",
       "      <td>121.83</td>\n",
       "      <td>124.92</td>\n",
       "      <td>124.92</td>\n",
       "      <td>243,678,100</td>\n",
       "    </tr>\n",
       "    <tr>\n",
       "      <th>2</th>\n",
       "      <td>Oct 3, 2024</td>\n",
       "      <td>120.92</td>\n",
       "      <td>124.36</td>\n",
       "      <td>120.34</td>\n",
       "      <td>122.85</td>\n",
       "      <td>122.85</td>\n",
       "      <td>277,118,000</td>\n",
       "    </tr>\n",
       "    <tr>\n",
       "      <th>3</th>\n",
       "      <td>Oct 2, 2024</td>\n",
       "      <td>116.44</td>\n",
       "      <td>119.38</td>\n",
       "      <td>115.14</td>\n",
       "      <td>118.85</td>\n",
       "      <td>118.85</td>\n",
       "      <td>221,845,900</td>\n",
       "    </tr>\n",
       "    <tr>\n",
       "      <th>4</th>\n",
       "      <td>Oct 1, 2024</td>\n",
       "      <td>121.77</td>\n",
       "      <td>122.44</td>\n",
       "      <td>115.79</td>\n",
       "      <td>117.00</td>\n",
       "      <td>117.00</td>\n",
       "      <td>302,094,500</td>\n",
       "    </tr>\n",
       "  </tbody>\n",
       "</table>\n",
       "</div>"
      ],
      "text/plain": [
       "          Date    Open    High     Low   Close  AddjClose       Volume\n",
       "0  Oct 7, 2024  124.99  130.64  124.95  127.72     127.72  346,250,200\n",
       "1  Oct 4, 2024  124.94  125.04  121.83  124.92     124.92  243,678,100\n",
       "2  Oct 3, 2024  120.92  124.36  120.34  122.85     122.85  277,118,000\n",
       "3  Oct 2, 2024  116.44  119.38  115.14  118.85     118.85  221,845,900\n",
       "4  Oct 1, 2024  121.77  122.44  115.79  117.00     117.00  302,094,500"
      ]
     },
     "execution_count": 218,
     "metadata": {},
     "output_type": "execute_result"
    }
   ],
   "source": [
    "df.columns = ['Date', 'Open', 'High', \"Low\", \"Close\", \"AddjClose\", \"Volume\"]\n",
    "df.head()"
   ]
  },
  {
   "cell_type": "code",
   "execution_count": 220,
   "metadata": {},
   "outputs": [
    {
     "name": "stdout",
     "output_type": "stream",
     "text": [
      "<class 'pandas.core.frame.DataFrame'>\n",
      "RangeIndex: 6523 entries, 0 to 6522\n",
      "Data columns (total 7 columns):\n",
      " #   Column     Non-Null Count  Dtype  \n",
      "---  ------     --------------  -----  \n",
      " 0   Date       6523 non-null   object \n",
      " 1   Open       6523 non-null   object \n",
      " 2   High       6469 non-null   float64\n",
      " 3   Low        6469 non-null   float64\n",
      " 4   Close      6469 non-null   float64\n",
      " 5   AddjClose  6469 non-null   float64\n",
      " 6   Volume     6469 non-null   object \n",
      "dtypes: float64(4), object(3)\n",
      "memory usage: 356.9+ KB\n"
     ]
    }
   ],
   "source": [
    "df.info()"
   ]
  },
  {
   "cell_type": "markdown",
   "metadata": {},
   "source": [
    "# Data preprocessing\n",
    "After acquiring the dataset we can see there are a lot of nosies and empty value,\n",
    "But first we reversed the data so that we can see that in correct order. \n",
    "Then we drop the empty value and convert the data object to float so we can process it better "
   ]
  },
  {
   "cell_type": "code",
   "execution_count": 223,
   "metadata": {
    "id": "GNWqh7HY063u"
   },
   "outputs": [],
   "source": [
    "df = df[::-1]"
   ]
  },
  {
   "cell_type": "code",
   "execution_count": 225,
   "metadata": {
    "id": "1iRQWAz21Am7"
   },
   "outputs": [],
   "source": [
    "import tensorflow as tf\n",
    "import keras\n",
    "from keras import layers"
   ]
  },
  {
   "cell_type": "code",
   "execution_count": 227,
   "metadata": {
    "id": "wxzmrPzV5cRA"
   },
   "outputs": [],
   "source": [
    "df = df.dropna()"
   ]
  },
  {
   "cell_type": "code",
   "execution_count": 229,
   "metadata": {
    "id": "mS72qx7G7gEY"
   },
   "outputs": [],
   "source": [
    "df[\"Open\"] = df.Open.astype(float)\n",
    "import locale\n",
    "from locale import atof\n",
    "locale.setlocale(locale.LC_NUMERIC, '')\n",
    "df[\"Volume\"] = df[\"Volume\"].map(atof)"
   ]
  },
  {
   "cell_type": "code",
   "execution_count": 231,
   "metadata": {
    "colab": {
     "base_uri": "https://localhost:8080/"
    },
    "id": "Vzg0X1Yh7qOm",
    "outputId": "871eda5a-fdc9-4fc2-97b0-6d7221c1e97f"
   },
   "outputs": [
    {
     "name": "stdout",
     "output_type": "stream",
     "text": [
      "<class 'pandas.core.frame.DataFrame'>\n",
      "Index: 6469 entries, 6522 to 0\n",
      "Data columns (total 7 columns):\n",
      " #   Column     Non-Null Count  Dtype  \n",
      "---  ------     --------------  -----  \n",
      " 0   Date       6469 non-null   object \n",
      " 1   Open       6469 non-null   float64\n",
      " 2   High       6469 non-null   float64\n",
      " 3   Low        6469 non-null   float64\n",
      " 4   Close      6469 non-null   float64\n",
      " 5   AddjClose  6469 non-null   float64\n",
      " 6   Volume     6469 non-null   float64\n",
      "dtypes: float64(6), object(1)\n",
      "memory usage: 404.3+ KB\n"
     ]
    }
   ],
   "source": [
    "df.info()"
   ]
  },
  {
   "cell_type": "markdown",
   "metadata": {},
   "source": [
    "# Scaling data \n",
    "After processing the data we select proper data for training our algorithms then scaled those data between 0 and 1 for uniformed result \\\n",
    "Then we seprate our X and Y and then use train_test_split to split our data into training and testing set"
   ]
  },
  {
   "cell_type": "code",
   "execution_count": 18,
   "metadata": {
    "id": "JYSex28Y7sPQ"
   },
   "outputs": [],
   "source": [
    "training_set = df.iloc[:, 2:4].values"
   ]
  },
  {
   "cell_type": "code",
   "execution_count": 19,
   "metadata": {
    "id": "E04rVIqQ7zxS"
   },
   "outputs": [],
   "source": [
    "from sklearn.preprocessing import MinMaxScaler\n",
    "sc = MinMaxScaler(feature_range=(0,1))\n",
    "training_set_scaled = sc.fit_transform(training_set)"
   ]
  },
  {
   "cell_type": "code",
   "execution_count": 20,
   "metadata": {
    "id": "qy4hjbUCSjGS"
   },
   "outputs": [],
   "source": [
    "from sklearn.model_selection import train_test_split\n",
    "\n",
    "X_data = []\n",
    "y_data = []\n",
    "for i in range(60, len(training_set_scaled)):\n",
    "    X_data.append(training_set_scaled[i-60:i, 0])\n",
    "    y_data.append(training_set_scaled[i, 0])\n",
    "X_data, y_data = np.array(X_data), np.array(y_data)\n",
    "\n",
    "X_train1, X_test1, y_train1, y_test1 = train_test_split(\n",
    "    X_data, y_data, test_size=0.2, shuffle=False\n",
    ")\n",
    "\n",
    "X_train = np.reshape(X_train1, (X_train1.shape[0], X_train1.shape[1], 1))\n",
    "X_test = np.reshape(X_test1, (X_test1.shape[0], X_test1.shape[1], 1))"
   ]
  },
  {
   "cell_type": "code",
   "execution_count": 21,
   "metadata": {
    "colab": {
     "base_uri": "https://localhost:8080/",
     "height": 429
    },
    "id": "GGwb9aG82Q5y",
    "outputId": "afc7fcd5-3fcc-4107-ae21-50175b315cdc"
   },
   "outputs": [
    {
     "name": "stderr",
     "output_type": "stream",
     "text": [
      "C:\\Users\\Peanut Monster\\AppData\\Roaming\\Python\\Python312\\site-packages\\keras\\src\\layers\\rnn\\rnn.py:204: UserWarning: Do not pass an `input_shape`/`input_dim` argument to a layer. When using Sequential models, prefer using an `Input(shape)` object as the first layer in the model instead.\n",
      "  super().__init__(**kwargs)\n"
     ]
    },
    {
     "data": {
      "text/html": [
       "<pre style=\"white-space:pre;overflow-x:auto;line-height:normal;font-family:Menlo,'DejaVu Sans Mono',consolas,'Courier New',monospace\"><span style=\"font-weight: bold\">Model: \"sequential\"</span>\n",
       "</pre>\n"
      ],
      "text/plain": [
       "\u001b[1mModel: \"sequential\"\u001b[0m\n"
      ]
     },
     "metadata": {},
     "output_type": "display_data"
    },
    {
     "data": {
      "text/html": [
       "<pre style=\"white-space:pre;overflow-x:auto;line-height:normal;font-family:Menlo,'DejaVu Sans Mono',consolas,'Courier New',monospace\">┏━━━━━━━━━━━━━━━━━━━━━━━━━━━━━━━━━━━━━━┳━━━━━━━━━━━━━━━━━━━━━━━━━━━━━┳━━━━━━━━━━━━━━━━━┓\n",
       "┃<span style=\"font-weight: bold\"> Layer (type)                         </span>┃<span style=\"font-weight: bold\"> Output Shape                </span>┃<span style=\"font-weight: bold\">         Param # </span>┃\n",
       "┡━━━━━━━━━━━━━━━━━━━━━━━━━━━━━━━━━━━━━━╇━━━━━━━━━━━━━━━━━━━━━━━━━━━━━╇━━━━━━━━━━━━━━━━━┩\n",
       "│ simple_rnn (<span style=\"color: #0087ff; text-decoration-color: #0087ff\">SimpleRNN</span>)               │ (<span style=\"color: #00d7ff; text-decoration-color: #00d7ff\">None</span>, <span style=\"color: #00af00; text-decoration-color: #00af00\">60</span>, <span style=\"color: #00af00; text-decoration-color: #00af00\">50</span>)              │           <span style=\"color: #00af00; text-decoration-color: #00af00\">2,600</span> │\n",
       "├──────────────────────────────────────┼─────────────────────────────┼─────────────────┤\n",
       "│ dropout (<span style=\"color: #0087ff; text-decoration-color: #0087ff\">Dropout</span>)                    │ (<span style=\"color: #00d7ff; text-decoration-color: #00d7ff\">None</span>, <span style=\"color: #00af00; text-decoration-color: #00af00\">60</span>, <span style=\"color: #00af00; text-decoration-color: #00af00\">50</span>)              │               <span style=\"color: #00af00; text-decoration-color: #00af00\">0</span> │\n",
       "├──────────────────────────────────────┼─────────────────────────────┼─────────────────┤\n",
       "│ simple_rnn_1 (<span style=\"color: #0087ff; text-decoration-color: #0087ff\">SimpleRNN</span>)             │ (<span style=\"color: #00d7ff; text-decoration-color: #00d7ff\">None</span>, <span style=\"color: #00af00; text-decoration-color: #00af00\">60</span>, <span style=\"color: #00af00; text-decoration-color: #00af00\">50</span>)              │           <span style=\"color: #00af00; text-decoration-color: #00af00\">5,050</span> │\n",
       "├──────────────────────────────────────┼─────────────────────────────┼─────────────────┤\n",
       "│ dropout_1 (<span style=\"color: #0087ff; text-decoration-color: #0087ff\">Dropout</span>)                  │ (<span style=\"color: #00d7ff; text-decoration-color: #00d7ff\">None</span>, <span style=\"color: #00af00; text-decoration-color: #00af00\">60</span>, <span style=\"color: #00af00; text-decoration-color: #00af00\">50</span>)              │               <span style=\"color: #00af00; text-decoration-color: #00af00\">0</span> │\n",
       "├──────────────────────────────────────┼─────────────────────────────┼─────────────────┤\n",
       "│ simple_rnn_2 (<span style=\"color: #0087ff; text-decoration-color: #0087ff\">SimpleRNN</span>)             │ (<span style=\"color: #00d7ff; text-decoration-color: #00d7ff\">None</span>, <span style=\"color: #00af00; text-decoration-color: #00af00\">50</span>)                  │           <span style=\"color: #00af00; text-decoration-color: #00af00\">5,050</span> │\n",
       "├──────────────────────────────────────┼─────────────────────────────┼─────────────────┤\n",
       "│ dropout_2 (<span style=\"color: #0087ff; text-decoration-color: #0087ff\">Dropout</span>)                  │ (<span style=\"color: #00d7ff; text-decoration-color: #00d7ff\">None</span>, <span style=\"color: #00af00; text-decoration-color: #00af00\">50</span>)                  │               <span style=\"color: #00af00; text-decoration-color: #00af00\">0</span> │\n",
       "├──────────────────────────────────────┼─────────────────────────────┼─────────────────┤\n",
       "│ dense (<span style=\"color: #0087ff; text-decoration-color: #0087ff\">Dense</span>)                        │ (<span style=\"color: #00d7ff; text-decoration-color: #00d7ff\">None</span>, <span style=\"color: #00af00; text-decoration-color: #00af00\">1</span>)                   │              <span style=\"color: #00af00; text-decoration-color: #00af00\">51</span> │\n",
       "└──────────────────────────────────────┴─────────────────────────────┴─────────────────┘\n",
       "</pre>\n"
      ],
      "text/plain": [
       "┏━━━━━━━━━━━━━━━━━━━━━━━━━━━━━━━━━━━━━━┳━━━━━━━━━━━━━━━━━━━━━━━━━━━━━┳━━━━━━━━━━━━━━━━━┓\n",
       "┃\u001b[1m \u001b[0m\u001b[1mLayer (type)                        \u001b[0m\u001b[1m \u001b[0m┃\u001b[1m \u001b[0m\u001b[1mOutput Shape               \u001b[0m\u001b[1m \u001b[0m┃\u001b[1m \u001b[0m\u001b[1m        Param #\u001b[0m\u001b[1m \u001b[0m┃\n",
       "┡━━━━━━━━━━━━━━━━━━━━━━━━━━━━━━━━━━━━━━╇━━━━━━━━━━━━━━━━━━━━━━━━━━━━━╇━━━━━━━━━━━━━━━━━┩\n",
       "│ simple_rnn (\u001b[38;5;33mSimpleRNN\u001b[0m)               │ (\u001b[38;5;45mNone\u001b[0m, \u001b[38;5;34m60\u001b[0m, \u001b[38;5;34m50\u001b[0m)              │           \u001b[38;5;34m2,600\u001b[0m │\n",
       "├──────────────────────────────────────┼─────────────────────────────┼─────────────────┤\n",
       "│ dropout (\u001b[38;5;33mDropout\u001b[0m)                    │ (\u001b[38;5;45mNone\u001b[0m, \u001b[38;5;34m60\u001b[0m, \u001b[38;5;34m50\u001b[0m)              │               \u001b[38;5;34m0\u001b[0m │\n",
       "├──────────────────────────────────────┼─────────────────────────────┼─────────────────┤\n",
       "│ simple_rnn_1 (\u001b[38;5;33mSimpleRNN\u001b[0m)             │ (\u001b[38;5;45mNone\u001b[0m, \u001b[38;5;34m60\u001b[0m, \u001b[38;5;34m50\u001b[0m)              │           \u001b[38;5;34m5,050\u001b[0m │\n",
       "├──────────────────────────────────────┼─────────────────────────────┼─────────────────┤\n",
       "│ dropout_1 (\u001b[38;5;33mDropout\u001b[0m)                  │ (\u001b[38;5;45mNone\u001b[0m, \u001b[38;5;34m60\u001b[0m, \u001b[38;5;34m50\u001b[0m)              │               \u001b[38;5;34m0\u001b[0m │\n",
       "├──────────────────────────────────────┼─────────────────────────────┼─────────────────┤\n",
       "│ simple_rnn_2 (\u001b[38;5;33mSimpleRNN\u001b[0m)             │ (\u001b[38;5;45mNone\u001b[0m, \u001b[38;5;34m50\u001b[0m)                  │           \u001b[38;5;34m5,050\u001b[0m │\n",
       "├──────────────────────────────────────┼─────────────────────────────┼─────────────────┤\n",
       "│ dropout_2 (\u001b[38;5;33mDropout\u001b[0m)                  │ (\u001b[38;5;45mNone\u001b[0m, \u001b[38;5;34m50\u001b[0m)                  │               \u001b[38;5;34m0\u001b[0m │\n",
       "├──────────────────────────────────────┼─────────────────────────────┼─────────────────┤\n",
       "│ dense (\u001b[38;5;33mDense\u001b[0m)                        │ (\u001b[38;5;45mNone\u001b[0m, \u001b[38;5;34m1\u001b[0m)                   │              \u001b[38;5;34m51\u001b[0m │\n",
       "└──────────────────────────────────────┴─────────────────────────────┴─────────────────┘\n"
      ]
     },
     "metadata": {},
     "output_type": "display_data"
    },
    {
     "data": {
      "text/html": [
       "<pre style=\"white-space:pre;overflow-x:auto;line-height:normal;font-family:Menlo,'DejaVu Sans Mono',consolas,'Courier New',monospace\"><span style=\"font-weight: bold\"> Total params: </span><span style=\"color: #00af00; text-decoration-color: #00af00\">12,751</span> (49.81 KB)\n",
       "</pre>\n"
      ],
      "text/plain": [
       "\u001b[1m Total params: \u001b[0m\u001b[38;5;34m12,751\u001b[0m (49.81 KB)\n"
      ]
     },
     "metadata": {},
     "output_type": "display_data"
    },
    {
     "data": {
      "text/html": [
       "<pre style=\"white-space:pre;overflow-x:auto;line-height:normal;font-family:Menlo,'DejaVu Sans Mono',consolas,'Courier New',monospace\"><span style=\"font-weight: bold\"> Trainable params: </span><span style=\"color: #00af00; text-decoration-color: #00af00\">12,751</span> (49.81 KB)\n",
       "</pre>\n"
      ],
      "text/plain": [
       "\u001b[1m Trainable params: \u001b[0m\u001b[38;5;34m12,751\u001b[0m (49.81 KB)\n"
      ]
     },
     "metadata": {},
     "output_type": "display_data"
    },
    {
     "data": {
      "text/html": [
       "<pre style=\"white-space:pre;overflow-x:auto;line-height:normal;font-family:Menlo,'DejaVu Sans Mono',consolas,'Courier New',monospace\"><span style=\"font-weight: bold\"> Non-trainable params: </span><span style=\"color: #00af00; text-decoration-color: #00af00\">0</span> (0.00 B)\n",
       "</pre>\n"
      ],
      "text/plain": [
       "\u001b[1m Non-trainable params: \u001b[0m\u001b[38;5;34m0\u001b[0m (0.00 B)\n"
      ]
     },
     "metadata": {},
     "output_type": "display_data"
    }
   ],
   "source": [
    "model = keras.Sequential()\n",
    "model.add(layers.SimpleRNN(50, return_sequences=True, input_shape=(X_train.shape[1], 1)))\n",
    "model.add(keras.layers.Dropout(0.2))\n",
    "model.add(layers.SimpleRNN(50, return_sequences=True))\n",
    "model.add(keras.layers.Dropout(0.2))\n",
    "model.add(layers.SimpleRNN(50))\n",
    "model.add(keras.layers.Dropout(0.2))\n",
    "model.add(keras.layers.Dense(1, activation=\"sigmoid\"))\n",
    "model.summary()"
   ]
  },
  {
   "cell_type": "markdown",
   "metadata": {},
   "source": [
    "# Training RNN "
   ]
  },
  {
   "cell_type": "code",
   "execution_count": 37,
   "metadata": {
    "colab": {
     "base_uri": "https://localhost:8080/"
    },
    "id": "dniWZLzR78Oz",
    "outputId": "c8393c76-996c-4495-e098-7f019d171c42"
   },
   "outputs": [
    {
     "name": "stdout",
     "output_type": "stream",
     "text": [
      "Epoch 1/100\n",
      "\u001b[1m161/161\u001b[0m \u001b[32m━━━━━━━━━━━━━━━━━━━━\u001b[0m\u001b[37m\u001b[0m \u001b[1m5s\u001b[0m 10ms/step - loss: 0.0163\n",
      "Epoch 2/100\n",
      "\u001b[1m161/161\u001b[0m \u001b[32m━━━━━━━━━━━━━━━━━━━━\u001b[0m\u001b[37m\u001b[0m \u001b[1m2s\u001b[0m 12ms/step - loss: 1.6457e-04\n",
      "Epoch 3/100\n",
      "\u001b[1m161/161\u001b[0m \u001b[32m━━━━━━━━━━━━━━━━━━━━\u001b[0m\u001b[37m\u001b[0m \u001b[1m2s\u001b[0m 11ms/step - loss: 1.4110e-04\n",
      "Epoch 4/100\n",
      "\u001b[1m161/161\u001b[0m \u001b[32m━━━━━━━━━━━━━━━━━━━━\u001b[0m\u001b[37m\u001b[0m \u001b[1m2s\u001b[0m 11ms/step - loss: 1.3440e-04\n",
      "Epoch 5/100\n",
      "\u001b[1m161/161\u001b[0m \u001b[32m━━━━━━━━━━━━━━━━━━━━\u001b[0m\u001b[37m\u001b[0m \u001b[1m2s\u001b[0m 11ms/step - loss: 1.3628e-04\n",
      "Epoch 6/100\n",
      "\u001b[1m161/161\u001b[0m \u001b[32m━━━━━━━━━━━━━━━━━━━━\u001b[0m\u001b[37m\u001b[0m \u001b[1m2s\u001b[0m 12ms/step - loss: 1.3073e-04\n",
      "Epoch 7/100\n",
      "\u001b[1m161/161\u001b[0m \u001b[32m━━━━━━━━━━━━━━━━━━━━\u001b[0m\u001b[37m\u001b[0m \u001b[1m2s\u001b[0m 12ms/step - loss: 1.3674e-04\n",
      "Epoch 8/100\n",
      "\u001b[1m161/161\u001b[0m \u001b[32m━━━━━━━━━━━━━━━━━━━━\u001b[0m\u001b[37m\u001b[0m \u001b[1m2s\u001b[0m 12ms/step - loss: 1.3943e-04\n",
      "Epoch 9/100\n",
      "\u001b[1m161/161\u001b[0m \u001b[32m━━━━━━━━━━━━━━━━━━━━\u001b[0m\u001b[37m\u001b[0m \u001b[1m2s\u001b[0m 12ms/step - loss: 1.2998e-04\n",
      "Epoch 10/100\n",
      "\u001b[1m161/161\u001b[0m \u001b[32m━━━━━━━━━━━━━━━━━━━━\u001b[0m\u001b[37m\u001b[0m \u001b[1m2s\u001b[0m 11ms/step - loss: 1.3684e-04\n",
      "Epoch 11/100\n",
      "\u001b[1m161/161\u001b[0m \u001b[32m━━━━━━━━━━━━━━━━━━━━\u001b[0m\u001b[37m\u001b[0m \u001b[1m2s\u001b[0m 11ms/step - loss: 1.4076e-04\n",
      "Epoch 12/100\n",
      "\u001b[1m161/161\u001b[0m \u001b[32m━━━━━━━━━━━━━━━━━━━━\u001b[0m\u001b[37m\u001b[0m \u001b[1m2s\u001b[0m 11ms/step - loss: 1.2777e-04\n",
      "Epoch 13/100\n",
      "\u001b[1m161/161\u001b[0m \u001b[32m━━━━━━━━━━━━━━━━━━━━\u001b[0m\u001b[37m\u001b[0m \u001b[1m2s\u001b[0m 11ms/step - loss: 1.2543e-04\n",
      "Epoch 14/100\n",
      "\u001b[1m161/161\u001b[0m \u001b[32m━━━━━━━━━━━━━━━━━━━━\u001b[0m\u001b[37m\u001b[0m \u001b[1m2s\u001b[0m 11ms/step - loss: 1.3091e-04\n",
      "Epoch 15/100\n",
      "\u001b[1m161/161\u001b[0m \u001b[32m━━━━━━━━━━━━━━━━━━━━\u001b[0m\u001b[37m\u001b[0m \u001b[1m2s\u001b[0m 12ms/step - loss: 1.3706e-04\n",
      "Epoch 16/100\n",
      "\u001b[1m161/161\u001b[0m \u001b[32m━━━━━━━━━━━━━━━━━━━━\u001b[0m\u001b[37m\u001b[0m \u001b[1m2s\u001b[0m 11ms/step - loss: 1.3210e-04\n",
      "Epoch 17/100\n",
      "\u001b[1m161/161\u001b[0m \u001b[32m━━━━━━━━━━━━━━━━━━━━\u001b[0m\u001b[37m\u001b[0m \u001b[1m2s\u001b[0m 11ms/step - loss: 1.4309e-04\n",
      "Epoch 18/100\n",
      "\u001b[1m161/161\u001b[0m \u001b[32m━━━━━━━━━━━━━━━━━━━━\u001b[0m\u001b[37m\u001b[0m \u001b[1m2s\u001b[0m 12ms/step - loss: 1.2509e-04\n",
      "Epoch 19/100\n",
      "\u001b[1m161/161\u001b[0m \u001b[32m━━━━━━━━━━━━━━━━━━━━\u001b[0m\u001b[37m\u001b[0m \u001b[1m2s\u001b[0m 14ms/step - loss: 1.0410e-04\n",
      "Epoch 20/100\n",
      "\u001b[1m161/161\u001b[0m \u001b[32m━━━━━━━━━━━━━━━━━━━━\u001b[0m\u001b[37m\u001b[0m \u001b[1m2s\u001b[0m 12ms/step - loss: 1.0357e-04\n",
      "Epoch 21/100\n",
      "\u001b[1m161/161\u001b[0m \u001b[32m━━━━━━━━━━━━━━━━━━━━\u001b[0m\u001b[37m\u001b[0m \u001b[1m2s\u001b[0m 11ms/step - loss: 1.1033e-04\n",
      "Epoch 22/100\n",
      "\u001b[1m161/161\u001b[0m \u001b[32m━━━━━━━━━━━━━━━━━━━━\u001b[0m\u001b[37m\u001b[0m \u001b[1m2s\u001b[0m 11ms/step - loss: 1.7434e-04\n",
      "Epoch 23/100\n",
      "\u001b[1m161/161\u001b[0m \u001b[32m━━━━━━━━━━━━━━━━━━━━\u001b[0m\u001b[37m\u001b[0m \u001b[1m2s\u001b[0m 12ms/step - loss: 1.3968e-04\n",
      "Epoch 24/100\n",
      "\u001b[1m161/161\u001b[0m \u001b[32m━━━━━━━━━━━━━━━━━━━━\u001b[0m\u001b[37m\u001b[0m \u001b[1m2s\u001b[0m 11ms/step - loss: 1.3462e-04\n",
      "Epoch 25/100\n",
      "\u001b[1m161/161\u001b[0m \u001b[32m━━━━━━━━━━━━━━━━━━━━\u001b[0m\u001b[37m\u001b[0m \u001b[1m2s\u001b[0m 11ms/step - loss: 1.2695e-04\n",
      "Epoch 26/100\n",
      "\u001b[1m161/161\u001b[0m \u001b[32m━━━━━━━━━━━━━━━━━━━━\u001b[0m\u001b[37m\u001b[0m \u001b[1m2s\u001b[0m 11ms/step - loss: 1.3027e-04\n",
      "Epoch 27/100\n",
      "\u001b[1m161/161\u001b[0m \u001b[32m━━━━━━━━━━━━━━━━━━━━\u001b[0m\u001b[37m\u001b[0m \u001b[1m2s\u001b[0m 11ms/step - loss: 1.3621e-04\n",
      "Epoch 28/100\n",
      "\u001b[1m161/161\u001b[0m \u001b[32m━━━━━━━━━━━━━━━━━━━━\u001b[0m\u001b[37m\u001b[0m \u001b[1m2s\u001b[0m 11ms/step - loss: 1.2860e-04\n",
      "Epoch 29/100\n",
      "\u001b[1m161/161\u001b[0m \u001b[32m━━━━━━━━━━━━━━━━━━━━\u001b[0m\u001b[37m\u001b[0m \u001b[1m2s\u001b[0m 11ms/step - loss: 1.4061e-04\n",
      "Epoch 30/100\n",
      "\u001b[1m161/161\u001b[0m \u001b[32m━━━━━━━━━━━━━━━━━━━━\u001b[0m\u001b[37m\u001b[0m \u001b[1m2s\u001b[0m 11ms/step - loss: 1.3088e-04\n",
      "Epoch 31/100\n",
      "\u001b[1m161/161\u001b[0m \u001b[32m━━━━━━━━━━━━━━━━━━━━\u001b[0m\u001b[37m\u001b[0m \u001b[1m2s\u001b[0m 12ms/step - loss: 1.2820e-04\n",
      "Epoch 32/100\n",
      "\u001b[1m161/161\u001b[0m \u001b[32m━━━━━━━━━━━━━━━━━━━━\u001b[0m\u001b[37m\u001b[0m \u001b[1m2s\u001b[0m 12ms/step - loss: 1.2736e-04\n",
      "Epoch 33/100\n",
      "\u001b[1m161/161\u001b[0m \u001b[32m━━━━━━━━━━━━━━━━━━━━\u001b[0m\u001b[37m\u001b[0m \u001b[1m2s\u001b[0m 11ms/step - loss: 1.3372e-04\n",
      "Epoch 34/100\n",
      "\u001b[1m161/161\u001b[0m \u001b[32m━━━━━━━━━━━━━━━━━━━━\u001b[0m\u001b[37m\u001b[0m \u001b[1m2s\u001b[0m 11ms/step - loss: 1.2710e-04\n",
      "Epoch 35/100\n",
      "\u001b[1m161/161\u001b[0m \u001b[32m━━━━━━━━━━━━━━━━━━━━\u001b[0m\u001b[37m\u001b[0m \u001b[1m2s\u001b[0m 12ms/step - loss: 1.1767e-04\n",
      "Epoch 36/100\n",
      "\u001b[1m161/161\u001b[0m \u001b[32m━━━━━━━━━━━━━━━━━━━━\u001b[0m\u001b[37m\u001b[0m \u001b[1m2s\u001b[0m 11ms/step - loss: 1.0977e-04\n",
      "Epoch 37/100\n",
      "\u001b[1m161/161\u001b[0m \u001b[32m━━━━━━━━━━━━━━━━━━━━\u001b[0m\u001b[37m\u001b[0m \u001b[1m2s\u001b[0m 11ms/step - loss: 1.2110e-04\n",
      "Epoch 38/100\n",
      "\u001b[1m161/161\u001b[0m \u001b[32m━━━━━━━━━━━━━━━━━━━━\u001b[0m\u001b[37m\u001b[0m \u001b[1m2s\u001b[0m 11ms/step - loss: 8.2845e-05\n",
      "Epoch 39/100\n",
      "\u001b[1m161/161\u001b[0m \u001b[32m━━━━━━━━━━━━━━━━━━━━\u001b[0m\u001b[37m\u001b[0m \u001b[1m2s\u001b[0m 11ms/step - loss: 1.0067e-04\n",
      "Epoch 40/100\n",
      "\u001b[1m161/161\u001b[0m \u001b[32m━━━━━━━━━━━━━━━━━━━━\u001b[0m\u001b[37m\u001b[0m \u001b[1m2s\u001b[0m 11ms/step - loss: 5.0413e-05\n",
      "Epoch 41/100\n",
      "\u001b[1m161/161\u001b[0m \u001b[32m━━━━━━━━━━━━━━━━━━━━\u001b[0m\u001b[37m\u001b[0m \u001b[1m2s\u001b[0m 12ms/step - loss: 5.0978e-05\n",
      "Epoch 42/100\n",
      "\u001b[1m161/161\u001b[0m \u001b[32m━━━━━━━━━━━━━━━━━━━━\u001b[0m\u001b[37m\u001b[0m \u001b[1m2s\u001b[0m 12ms/step - loss: 5.4391e-05\n",
      "Epoch 43/100\n",
      "\u001b[1m161/161\u001b[0m \u001b[32m━━━━━━━━━━━━━━━━━━━━\u001b[0m\u001b[37m\u001b[0m \u001b[1m2s\u001b[0m 11ms/step - loss: 9.0297e-05\n",
      "Epoch 44/100\n",
      "\u001b[1m161/161\u001b[0m \u001b[32m━━━━━━━━━━━━━━━━━━━━\u001b[0m\u001b[37m\u001b[0m \u001b[1m2s\u001b[0m 11ms/step - loss: 6.9806e-05\n",
      "Epoch 45/100\n",
      "\u001b[1m161/161\u001b[0m \u001b[32m━━━━━━━━━━━━━━━━━━━━\u001b[0m\u001b[37m\u001b[0m \u001b[1m2s\u001b[0m 11ms/step - loss: 4.3527e-05\n",
      "Epoch 46/100\n",
      "\u001b[1m161/161\u001b[0m \u001b[32m━━━━━━━━━━━━━━━━━━━━\u001b[0m\u001b[37m\u001b[0m \u001b[1m2s\u001b[0m 11ms/step - loss: 5.0454e-05\n",
      "Epoch 47/100\n",
      "\u001b[1m161/161\u001b[0m \u001b[32m━━━━━━━━━━━━━━━━━━━━\u001b[0m\u001b[37m\u001b[0m \u001b[1m2s\u001b[0m 11ms/step - loss: 4.1975e-05\n",
      "Epoch 48/100\n",
      "\u001b[1m161/161\u001b[0m \u001b[32m━━━━━━━━━━━━━━━━━━━━\u001b[0m\u001b[37m\u001b[0m \u001b[1m2s\u001b[0m 11ms/step - loss: 4.4694e-05\n",
      "Epoch 49/100\n",
      "\u001b[1m161/161\u001b[0m \u001b[32m━━━━━━━━━━━━━━━━━━━━\u001b[0m\u001b[37m\u001b[0m \u001b[1m2s\u001b[0m 12ms/step - loss: 4.3935e-05\n",
      "Epoch 50/100\n",
      "\u001b[1m161/161\u001b[0m \u001b[32m━━━━━━━━━━━━━━━━━━━━\u001b[0m\u001b[37m\u001b[0m \u001b[1m2s\u001b[0m 12ms/step - loss: 5.7580e-05\n",
      "Epoch 51/100\n",
      "\u001b[1m161/161\u001b[0m \u001b[32m━━━━━━━━━━━━━━━━━━━━\u001b[0m\u001b[37m\u001b[0m \u001b[1m2s\u001b[0m 11ms/step - loss: 4.4491e-05\n",
      "Epoch 52/100\n",
      "\u001b[1m161/161\u001b[0m \u001b[32m━━━━━━━━━━━━━━━━━━━━\u001b[0m\u001b[37m\u001b[0m \u001b[1m2s\u001b[0m 12ms/step - loss: 3.7628e-05\n",
      "Epoch 53/100\n",
      "\u001b[1m161/161\u001b[0m \u001b[32m━━━━━━━━━━━━━━━━━━━━\u001b[0m\u001b[37m\u001b[0m \u001b[1m2s\u001b[0m 11ms/step - loss: 3.9025e-05\n",
      "Epoch 54/100\n",
      "\u001b[1m161/161\u001b[0m \u001b[32m━━━━━━━━━━━━━━━━━━━━\u001b[0m\u001b[37m\u001b[0m \u001b[1m2s\u001b[0m 11ms/step - loss: 4.8809e-05\n",
      "Epoch 55/100\n",
      "\u001b[1m161/161\u001b[0m \u001b[32m━━━━━━━━━━━━━━━━━━━━\u001b[0m\u001b[37m\u001b[0m \u001b[1m2s\u001b[0m 11ms/step - loss: 3.6305e-05\n",
      "Epoch 56/100\n",
      "\u001b[1m161/161\u001b[0m \u001b[32m━━━━━━━━━━━━━━━━━━━━\u001b[0m\u001b[37m\u001b[0m \u001b[1m2s\u001b[0m 11ms/step - loss: 3.7091e-05\n",
      "Epoch 57/100\n",
      "\u001b[1m161/161\u001b[0m \u001b[32m━━━━━━━━━━━━━━━━━━━━\u001b[0m\u001b[37m\u001b[0m \u001b[1m2s\u001b[0m 12ms/step - loss: 3.7812e-05\n",
      "Epoch 58/100\n",
      "\u001b[1m161/161\u001b[0m \u001b[32m━━━━━━━━━━━━━━━━━━━━\u001b[0m\u001b[37m\u001b[0m \u001b[1m2s\u001b[0m 12ms/step - loss: 3.7257e-05\n",
      "Epoch 59/100\n",
      "\u001b[1m161/161\u001b[0m \u001b[32m━━━━━━━━━━━━━━━━━━━━\u001b[0m\u001b[37m\u001b[0m \u001b[1m2s\u001b[0m 11ms/step - loss: 3.5910e-05\n",
      "Epoch 60/100\n",
      "\u001b[1m161/161\u001b[0m \u001b[32m━━━━━━━━━━━━━━━━━━━━\u001b[0m\u001b[37m\u001b[0m \u001b[1m2s\u001b[0m 12ms/step - loss: 3.4801e-05\n",
      "Epoch 61/100\n",
      "\u001b[1m161/161\u001b[0m \u001b[32m━━━━━━━━━━━━━━━━━━━━\u001b[0m\u001b[37m\u001b[0m \u001b[1m2s\u001b[0m 12ms/step - loss: 3.8693e-05\n",
      "Epoch 62/100\n",
      "\u001b[1m161/161\u001b[0m \u001b[32m━━━━━━━━━━━━━━━━━━━━\u001b[0m\u001b[37m\u001b[0m \u001b[1m2s\u001b[0m 11ms/step - loss: 3.4139e-05\n",
      "Epoch 63/100\n",
      "\u001b[1m161/161\u001b[0m \u001b[32m━━━━━━━━━━━━━━━━━━━━\u001b[0m\u001b[37m\u001b[0m \u001b[1m2s\u001b[0m 11ms/step - loss: 3.7800e-05\n",
      "Epoch 64/100\n",
      "\u001b[1m161/161\u001b[0m \u001b[32m━━━━━━━━━━━━━━━━━━━━\u001b[0m\u001b[37m\u001b[0m \u001b[1m2s\u001b[0m 11ms/step - loss: 5.1656e-05\n",
      "Epoch 65/100\n",
      "\u001b[1m161/161\u001b[0m \u001b[32m━━━━━━━━━━━━━━━━━━━━\u001b[0m\u001b[37m\u001b[0m \u001b[1m2s\u001b[0m 11ms/step - loss: 3.2105e-05\n",
      "Epoch 66/100\n",
      "\u001b[1m161/161\u001b[0m \u001b[32m━━━━━━━━━━━━━━━━━━━━\u001b[0m\u001b[37m\u001b[0m \u001b[1m2s\u001b[0m 12ms/step - loss: 3.8405e-05\n",
      "Epoch 67/100\n",
      "\u001b[1m161/161\u001b[0m \u001b[32m━━━━━━━━━━━━━━━━━━━━\u001b[0m\u001b[37m\u001b[0m \u001b[1m2s\u001b[0m 12ms/step - loss: 3.4230e-05\n",
      "Epoch 68/100\n",
      "\u001b[1m161/161\u001b[0m \u001b[32m━━━━━━━━━━━━━━━━━━━━\u001b[0m\u001b[37m\u001b[0m \u001b[1m2s\u001b[0m 12ms/step - loss: 3.5185e-05\n",
      "Epoch 69/100\n",
      "\u001b[1m161/161\u001b[0m \u001b[32m━━━━━━━━━━━━━━━━━━━━\u001b[0m\u001b[37m\u001b[0m \u001b[1m2s\u001b[0m 12ms/step - loss: 3.8794e-05\n",
      "Epoch 70/100\n",
      "\u001b[1m161/161\u001b[0m \u001b[32m━━━━━━━━━━━━━━━━━━━━\u001b[0m\u001b[37m\u001b[0m \u001b[1m2s\u001b[0m 11ms/step - loss: 0.0011\n",
      "Epoch 71/100\n",
      "\u001b[1m161/161\u001b[0m \u001b[32m━━━━━━━━━━━━━━━━━━━━\u001b[0m\u001b[37m\u001b[0m \u001b[1m2s\u001b[0m 11ms/step - loss: 1.2735e-04\n",
      "Epoch 72/100\n",
      "\u001b[1m161/161\u001b[0m \u001b[32m━━━━━━━━━━━━━━━━━━━━\u001b[0m\u001b[37m\u001b[0m \u001b[1m2s\u001b[0m 12ms/step - loss: 1.2567e-04\n",
      "Epoch 73/100\n",
      "\u001b[1m161/161\u001b[0m \u001b[32m━━━━━━━━━━━━━━━━━━━━\u001b[0m\u001b[37m\u001b[0m \u001b[1m2s\u001b[0m 12ms/step - loss: 1.2454e-04\n",
      "Epoch 74/100\n",
      "\u001b[1m161/161\u001b[0m \u001b[32m━━━━━━━━━━━━━━━━━━━━\u001b[0m\u001b[37m\u001b[0m \u001b[1m2s\u001b[0m 12ms/step - loss: 1.2570e-04\n",
      "Epoch 75/100\n",
      "\u001b[1m161/161\u001b[0m \u001b[32m━━━━━━━━━━━━━━━━━━━━\u001b[0m\u001b[37m\u001b[0m \u001b[1m2s\u001b[0m 12ms/step - loss: 1.2505e-04\n",
      "Epoch 76/100\n",
      "\u001b[1m161/161\u001b[0m \u001b[32m━━━━━━━━━━━━━━━━━━━━\u001b[0m\u001b[37m\u001b[0m \u001b[1m2s\u001b[0m 12ms/step - loss: 1.3204e-04\n",
      "Epoch 77/100\n",
      "\u001b[1m161/161\u001b[0m \u001b[32m━━━━━━━━━━━━━━━━━━━━\u001b[0m\u001b[37m\u001b[0m \u001b[1m2s\u001b[0m 12ms/step - loss: 1.2258e-04\n",
      "Epoch 78/100\n",
      "\u001b[1m161/161\u001b[0m \u001b[32m━━━━━━━━━━━━━━━━━━━━\u001b[0m\u001b[37m\u001b[0m \u001b[1m2s\u001b[0m 12ms/step - loss: 1.3124e-04\n",
      "Epoch 79/100\n",
      "\u001b[1m161/161\u001b[0m \u001b[32m━━━━━━━━━━━━━━━━━━━━\u001b[0m\u001b[37m\u001b[0m \u001b[1m2s\u001b[0m 12ms/step - loss: 1.2657e-04\n",
      "Epoch 80/100\n",
      "\u001b[1m161/161\u001b[0m \u001b[32m━━━━━━━━━━━━━━━━━━━━\u001b[0m\u001b[37m\u001b[0m \u001b[1m2s\u001b[0m 11ms/step - loss: 1.0849e-04\n",
      "Epoch 81/100\n",
      "\u001b[1m161/161\u001b[0m \u001b[32m━━━━━━━━━━━━━━━━━━━━\u001b[0m\u001b[37m\u001b[0m \u001b[1m2s\u001b[0m 11ms/step - loss: 5.8143e-05\n",
      "Epoch 82/100\n",
      "\u001b[1m161/161\u001b[0m \u001b[32m━━━━━━━━━━━━━━━━━━━━\u001b[0m\u001b[37m\u001b[0m \u001b[1m2s\u001b[0m 12ms/step - loss: 4.2268e-05\n",
      "Epoch 83/100\n",
      "\u001b[1m161/161\u001b[0m \u001b[32m━━━━━━━━━━━━━━━━━━━━\u001b[0m\u001b[37m\u001b[0m \u001b[1m2s\u001b[0m 12ms/step - loss: 3.3293e-05\n",
      "Epoch 84/100\n",
      "\u001b[1m161/161\u001b[0m \u001b[32m━━━━━━━━━━━━━━━━━━━━\u001b[0m\u001b[37m\u001b[0m \u001b[1m2s\u001b[0m 12ms/step - loss: 3.5808e-05\n",
      "Epoch 85/100\n",
      "\u001b[1m161/161\u001b[0m \u001b[32m━━━━━━━━━━━━━━━━━━━━\u001b[0m\u001b[37m\u001b[0m \u001b[1m2s\u001b[0m 12ms/step - loss: 3.6166e-05\n",
      "Epoch 86/100\n",
      "\u001b[1m161/161\u001b[0m \u001b[32m━━━━━━━━━━━━━━━━━━━━\u001b[0m\u001b[37m\u001b[0m \u001b[1m2s\u001b[0m 12ms/step - loss: 3.1663e-05\n",
      "Epoch 87/100\n",
      "\u001b[1m161/161\u001b[0m \u001b[32m━━━━━━━━━━━━━━━━━━━━\u001b[0m\u001b[37m\u001b[0m \u001b[1m2s\u001b[0m 12ms/step - loss: 2.7135e-05\n",
      "Epoch 88/100\n",
      "\u001b[1m161/161\u001b[0m \u001b[32m━━━━━━━━━━━━━━━━━━━━\u001b[0m\u001b[37m\u001b[0m \u001b[1m2s\u001b[0m 12ms/step - loss: 2.9285e-05\n",
      "Epoch 89/100\n",
      "\u001b[1m161/161\u001b[0m \u001b[32m━━━━━━━━━━━━━━━━━━━━\u001b[0m\u001b[37m\u001b[0m \u001b[1m2s\u001b[0m 12ms/step - loss: 2.9973e-05\n",
      "Epoch 90/100\n",
      "\u001b[1m161/161\u001b[0m \u001b[32m━━━━━━━━━━━━━━━━━━━━\u001b[0m\u001b[37m\u001b[0m \u001b[1m2s\u001b[0m 12ms/step - loss: 2.9848e-05\n",
      "Epoch 91/100\n",
      "\u001b[1m161/161\u001b[0m \u001b[32m━━━━━━━━━━━━━━━━━━━━\u001b[0m\u001b[37m\u001b[0m \u001b[1m2s\u001b[0m 12ms/step - loss: 2.8486e-05\n",
      "Epoch 92/100\n",
      "\u001b[1m161/161\u001b[0m \u001b[32m━━━━━━━━━━━━━━━━━━━━\u001b[0m\u001b[37m\u001b[0m \u001b[1m2s\u001b[0m 12ms/step - loss: 3.1915e-05\n",
      "Epoch 93/100\n",
      "\u001b[1m161/161\u001b[0m \u001b[32m━━━━━━━━━━━━━━━━━━━━\u001b[0m\u001b[37m\u001b[0m \u001b[1m2s\u001b[0m 11ms/step - loss: 2.6518e-05\n",
      "Epoch 94/100\n",
      "\u001b[1m161/161\u001b[0m \u001b[32m━━━━━━━━━━━━━━━━━━━━\u001b[0m\u001b[37m\u001b[0m \u001b[1m2s\u001b[0m 12ms/step - loss: 2.9026e-05\n",
      "Epoch 95/100\n",
      "\u001b[1m161/161\u001b[0m \u001b[32m━━━━━━━━━━━━━━━━━━━━\u001b[0m\u001b[37m\u001b[0m \u001b[1m2s\u001b[0m 12ms/step - loss: 2.7486e-05\n",
      "Epoch 96/100\n",
      "\u001b[1m161/161\u001b[0m \u001b[32m━━━━━━━━━━━━━━━━━━━━\u001b[0m\u001b[37m\u001b[0m \u001b[1m2s\u001b[0m 12ms/step - loss: 2.8229e-05\n",
      "Epoch 97/100\n",
      "\u001b[1m161/161\u001b[0m \u001b[32m━━━━━━━━━━━━━━━━━━━━\u001b[0m\u001b[37m\u001b[0m \u001b[1m2s\u001b[0m 12ms/step - loss: 2.8418e-05\n",
      "Epoch 98/100\n",
      "\u001b[1m161/161\u001b[0m \u001b[32m━━━━━━━━━━━━━━━━━━━━\u001b[0m\u001b[37m\u001b[0m \u001b[1m2s\u001b[0m 11ms/step - loss: 2.5163e-05\n",
      "Epoch 99/100\n",
      "\u001b[1m161/161\u001b[0m \u001b[32m━━━━━━━━━━━━━━━━━━━━\u001b[0m\u001b[37m\u001b[0m \u001b[1m2s\u001b[0m 12ms/step - loss: 2.3978e-05\n",
      "Epoch 100/100\n",
      "\u001b[1m161/161\u001b[0m \u001b[32m━━━━━━━━━━━━━━━━━━━━\u001b[0m\u001b[37m\u001b[0m \u001b[1m2s\u001b[0m 12ms/step - loss: 2.9462e-05\n"
     ]
    },
    {
     "data": {
      "text/plain": [
       "<keras.src.callbacks.history.History at 0x14f453820f0>"
      ]
     },
     "execution_count": 37,
     "metadata": {},
     "output_type": "execute_result"
    }
   ],
   "source": [
    "model.compile(optimizer='adam',loss='mean_squared_error')\n",
    "model.fit(X_train,y_train1,epochs=100,batch_size=32)"
   ]
  },
  {
   "cell_type": "code",
   "execution_count": 39,
   "metadata": {
    "colab": {
     "base_uri": "https://localhost:8080/"
    },
    "id": "3KipFL-iC1-C",
    "outputId": "f74b633e-ca8a-449b-99b4-efd24fb7b851"
   },
   "outputs": [
    {
     "name": "stdout",
     "output_type": "stream",
     "text": [
      "\u001b[1m41/41\u001b[0m \u001b[32m━━━━━━━━━━━━━━━━━━━━\u001b[0m\u001b[37m\u001b[0m \u001b[1m1s\u001b[0m 15ms/step\n"
     ]
    }
   ],
   "source": [
    "X_test1 = X_test1.reshape(X_test1.shape[0], X_test1.shape[1], 1)\n",
    "\n",
    "predicted_stock_price = model.predict(X_test1)\n",
    "predicted_stock_price = predicted_stock_price.reshape(-1, 1)\n",
    "\n",
    "num_samples = predicted_stock_price.shape[0]\n",
    "temp_array = np.zeros((num_samples, 2))\n",
    "temp_array[:, 0] = predicted_stock_price[:, 0]\n",
    "predicted_stock_price = sc.inverse_transform(temp_array)[:, 0]"
   ]
  },
  {
   "cell_type": "code",
   "execution_count": 40,
   "metadata": {
    "colab": {
     "base_uri": "https://localhost:8080/"
    },
    "id": "mF8adbQYnYOX",
    "outputId": "d47d6e50-3bc6-4263-dcec-dcb68295b4ac"
   },
   "outputs": [
    {
     "name": "stdout",
     "output_type": "stream",
     "text": [
      "\u001b[1m41/41\u001b[0m \u001b[32m━━━━━━━━━━━━━━━━━━━━\u001b[0m\u001b[37m\u001b[0m \u001b[1m0s\u001b[0m 3ms/step\n"
     ]
    }
   ],
   "source": [
    "predicted_stock_price = model.predict(X_test1)\n",
    "predicted_stock_price = np.hstack((predicted_stock_price, predicted_stock_price))\n",
    "predicted_stock_price = sc.inverse_transform(predicted_stock_price)"
   ]
  },
  {
   "cell_type": "code",
   "execution_count": 43,
   "metadata": {
    "id": "EnPL3IZ_ptz0"
   },
   "outputs": [],
   "source": [
    "dummy_column = np.zeros_like(y_test1)\n",
    "y_test1_reshaped = np.column_stack([y_test1, dummy_column])\n",
    "inversed_y_test1 = sc.inverse_transform(y_test1_reshaped)\n",
    "inversed_y_test1 = inversed_y_test1[:, 0]"
   ]
  },
  {
   "cell_type": "code",
   "execution_count": 45,
   "metadata": {
    "colab": {
     "base_uri": "https://localhost:8080/",
     "height": 472
    },
    "id": "E2K7vVgnC4hb",
    "outputId": "f4ae59f2-2fc7-4f63-bb7b-7cecfb4b9232"
   },
   "outputs": [
    {
     "data": {
      "image/png": "[encoded data removed]",
      "text/plain": [
       "<Figure size 640x480 with 1 Axes>"
      ]
     },
     "metadata": {},
     "output_type": "display_data"
    }
   ],
   "source": [
    "plt.plot(inversed_y_test1, color = 'black', label = 'NVDA Stock Price')\n",
    "plt.plot(predicted_stock_price, color = 'green', label = 'Predicted NVDA Stock Price')\n",
    "plt.title('NVDA Stock Price Prediction')\n",
    "plt.xlabel('Time')\n",
    "plt.ylabel('NVDA Stock Price')\n",
    "plt.legend()\n",
    "plt.show()"
   ]
  },
  {
   "cell_type": "code",
   "execution_count": 49,
   "metadata": {},
   "outputs": [
    {
     "name": "stdout",
     "output_type": "stream",
     "text": [
      "R2 for RNN:  -3.060139935483231\n",
      "MAE for RNN:  42.9668464774163\n",
      "RMSE for RNN:  64.97236830805039\n"
     ]
    }
   ],
   "source": [
    "from sklearn.metrics import mean_squared_error, mean_absolute_error, r2_score\n",
    "rmse = np.sqrt(mean_squared_error(inversed_y_test1, predicted_stock_price[:, 0]))\n",
    "mae = mean_absolute_error(inversed_y_test1, predicted_stock_price[:, 0])\n",
    "r2 = r2_score(inversed_y_test1, predicted_stock_price[:, 0])\n",
    "print(\"R2 for RNN: \",r2)\n",
    "print(\"MAE for RNN: \",mae)\n",
    "print(\"RMSE for RNN: \",rmse)"
   ]
  },
  {
   "cell_type": "markdown",
   "metadata": {},
   "source": [
    "# Training LSTM"
   ]
  },
  {
   "cell_type": "code",
   "execution_count": 34,
   "metadata": {
    "id": "G7Z4L9NdmLg3"
   },
   "outputs": [],
   "source": [
    "dummy_column = np.zeros_like(y_test1)\n",
    "y_test1_reshaped = np.column_stack([y_test1, dummy_column])\n",
    "inversed_y_test1 = sc.inverse_transform(y_test1_reshaped)\n",
    "inversed_y_test1 = inversed_y_test1[:, 0]"
   ]
  },
  {
   "cell_type": "code",
   "execution_count": 35,
   "metadata": {
    "colab": {
     "base_uri": "https://localhost:8080/"
    },
    "id": "UOpDyvrFFnq5",
    "outputId": "eab46889-5d70-42c3-ae2e-13f6062236b1"
   },
   "outputs": [
    {
     "name": "stdout",
     "output_type": "stream",
     "text": [
      "R2 RNN :  -0.7739496110509703\n",
      "MAE Of RNN :  28.356455159633654\n",
      "RMSE Of RNN :  42.94660484467294\n"
     ]
    }
   ],
   "source": [
    "rmse = np.sqrt(mean_squared_error(inversed_y_test1, predicted_stock_price[:, 0]))\n",
    "mae = mean_absolute_error(inversed_y_test1, predicted_stock_price[:, 0])\n",
    "r2 = r2_score(inversed_y_test1, predicted_stock_price[:, 0])\n",
    "print(\"R2 RNN : \",r2)\n",
    "print(\"MAE Of RNN : \",mae)\n",
    "print(\"RMSE Of RNN : \",rmse)"
   ]
  },
  {
   "cell_type": "code",
   "execution_count": 36,
   "metadata": {
    "colab": {
     "base_uri": "https://localhost:8080/",
     "height": 497
    },
    "id": "HKUEjna8FsdR",
    "outputId": "047b9b16-2cee-4106-f502-aa49d574b976"
   },
   "outputs": [
    {
     "name": "stderr",
     "output_type": "stream",
     "text": [
      "C:\\Users\\Peanut Monster\\AppData\\Roaming\\Python\\Python312\\site-packages\\keras\\src\\layers\\rnn\\rnn.py:204: UserWarning: Do not pass an `input_shape`/`input_dim` argument to a layer. When using Sequential models, prefer using an `Input(shape)` object as the first layer in the model instead.\n",
      "  super().__init__(**kwargs)\n"
     ]
    },
    {
     "data": {
      "text/html": [
       "<pre style=\"white-space:pre;overflow-x:auto;line-height:normal;font-family:Menlo,'DejaVu Sans Mono',consolas,'Courier New',monospace\"><span style=\"font-weight: bold\">Model: \"sequential_2\"</span>\n",
       "</pre>\n"
      ],
      "text/plain": [
       "\u001b[1mModel: \"sequential_2\"\u001b[0m\n"
      ]
     },
     "metadata": {},
     "output_type": "display_data"
    },
    {
     "data": {
      "text/html": [
       "<pre style=\"white-space:pre;overflow-x:auto;line-height:normal;font-family:Menlo,'DejaVu Sans Mono',consolas,'Courier New',monospace\">┏━━━━━━━━━━━━━━━━━━━━━━━━━━━━━━━━━━━━━━┳━━━━━━━━━━━━━━━━━━━━━━━━━━━━━┳━━━━━━━━━━━━━━━━━┓\n",
       "┃<span style=\"font-weight: bold\"> Layer (type)                         </span>┃<span style=\"font-weight: bold\"> Output Shape                </span>┃<span style=\"font-weight: bold\">         Param # </span>┃\n",
       "┡━━━━━━━━━━━━━━━━━━━━━━━━━━━━━━━━━━━━━━╇━━━━━━━━━━━━━━━━━━━━━━━━━━━━━╇━━━━━━━━━━━━━━━━━┩\n",
       "│ lstm (<span style=\"color: #0087ff; text-decoration-color: #0087ff\">LSTM</span>)                          │ (<span style=\"color: #00d7ff; text-decoration-color: #00d7ff\">None</span>, <span style=\"color: #00af00; text-decoration-color: #00af00\">60</span>, <span style=\"color: #00af00; text-decoration-color: #00af00\">50</span>)              │          <span style=\"color: #00af00; text-decoration-color: #00af00\">10,400</span> │\n",
       "├──────────────────────────────────────┼─────────────────────────────┼─────────────────┤\n",
       "│ dropout_6 (<span style=\"color: #0087ff; text-decoration-color: #0087ff\">Dropout</span>)                  │ (<span style=\"color: #00d7ff; text-decoration-color: #00d7ff\">None</span>, <span style=\"color: #00af00; text-decoration-color: #00af00\">60</span>, <span style=\"color: #00af00; text-decoration-color: #00af00\">50</span>)              │               <span style=\"color: #00af00; text-decoration-color: #00af00\">0</span> │\n",
       "├──────────────────────────────────────┼─────────────────────────────┼─────────────────┤\n",
       "│ lstm_1 (<span style=\"color: #0087ff; text-decoration-color: #0087ff\">LSTM</span>)                        │ (<span style=\"color: #00d7ff; text-decoration-color: #00d7ff\">None</span>, <span style=\"color: #00af00; text-decoration-color: #00af00\">60</span>, <span style=\"color: #00af00; text-decoration-color: #00af00\">50</span>)              │          <span style=\"color: #00af00; text-decoration-color: #00af00\">20,200</span> │\n",
       "├──────────────────────────────────────┼─────────────────────────────┼─────────────────┤\n",
       "│ dropout_7 (<span style=\"color: #0087ff; text-decoration-color: #0087ff\">Dropout</span>)                  │ (<span style=\"color: #00d7ff; text-decoration-color: #00d7ff\">None</span>, <span style=\"color: #00af00; text-decoration-color: #00af00\">60</span>, <span style=\"color: #00af00; text-decoration-color: #00af00\">50</span>)              │               <span style=\"color: #00af00; text-decoration-color: #00af00\">0</span> │\n",
       "├──────────────────────────────────────┼─────────────────────────────┼─────────────────┤\n",
       "│ lstm_2 (<span style=\"color: #0087ff; text-decoration-color: #0087ff\">LSTM</span>)                        │ (<span style=\"color: #00d7ff; text-decoration-color: #00d7ff\">None</span>, <span style=\"color: #00af00; text-decoration-color: #00af00\">60</span>, <span style=\"color: #00af00; text-decoration-color: #00af00\">50</span>)              │          <span style=\"color: #00af00; text-decoration-color: #00af00\">20,200</span> │\n",
       "├──────────────────────────────────────┼─────────────────────────────┼─────────────────┤\n",
       "│ dropout_8 (<span style=\"color: #0087ff; text-decoration-color: #0087ff\">Dropout</span>)                  │ (<span style=\"color: #00d7ff; text-decoration-color: #00d7ff\">None</span>, <span style=\"color: #00af00; text-decoration-color: #00af00\">60</span>, <span style=\"color: #00af00; text-decoration-color: #00af00\">50</span>)              │               <span style=\"color: #00af00; text-decoration-color: #00af00\">0</span> │\n",
       "├──────────────────────────────────────┼─────────────────────────────┼─────────────────┤\n",
       "│ lstm_3 (<span style=\"color: #0087ff; text-decoration-color: #0087ff\">LSTM</span>)                        │ (<span style=\"color: #00d7ff; text-decoration-color: #00d7ff\">None</span>, <span style=\"color: #00af00; text-decoration-color: #00af00\">50</span>)                  │          <span style=\"color: #00af00; text-decoration-color: #00af00\">20,200</span> │\n",
       "├──────────────────────────────────────┼─────────────────────────────┼─────────────────┤\n",
       "│ dropout_9 (<span style=\"color: #0087ff; text-decoration-color: #0087ff\">Dropout</span>)                  │ (<span style=\"color: #00d7ff; text-decoration-color: #00d7ff\">None</span>, <span style=\"color: #00af00; text-decoration-color: #00af00\">50</span>)                  │               <span style=\"color: #00af00; text-decoration-color: #00af00\">0</span> │\n",
       "├──────────────────────────────────────┼─────────────────────────────┼─────────────────┤\n",
       "│ dense_2 (<span style=\"color: #0087ff; text-decoration-color: #0087ff\">Dense</span>)                      │ (<span style=\"color: #00d7ff; text-decoration-color: #00d7ff\">None</span>, <span style=\"color: #00af00; text-decoration-color: #00af00\">1</span>)                   │              <span style=\"color: #00af00; text-decoration-color: #00af00\">51</span> │\n",
       "└──────────────────────────────────────┴─────────────────────────────┴─────────────────┘\n",
       "</pre>\n"
      ],
      "text/plain": [
       "┏━━━━━━━━━━━━━━━━━━━━━━━━━━━━━━━━━━━━━━┳━━━━━━━━━━━━━━━━━━━━━━━━━━━━━┳━━━━━━━━━━━━━━━━━┓\n",
       "┃\u001b[1m \u001b[0m\u001b[1mLayer (type)                        \u001b[0m\u001b[1m \u001b[0m┃\u001b[1m \u001b[0m\u001b[1mOutput Shape               \u001b[0m\u001b[1m \u001b[0m┃\u001b[1m \u001b[0m\u001b[1m        Param #\u001b[0m\u001b[1m \u001b[0m┃\n",
       "┡━━━━━━━━━━━━━━━━━━━━━━━━━━━━━━━━━━━━━━╇━━━━━━━━━━━━━━━━━━━━━━━━━━━━━╇━━━━━━━━━━━━━━━━━┩\n",
       "│ lstm (\u001b[38;5;33mLSTM\u001b[0m)                          │ (\u001b[38;5;45mNone\u001b[0m, \u001b[38;5;34m60\u001b[0m, \u001b[38;5;34m50\u001b[0m)              │          \u001b[38;5;34m10,400\u001b[0m │\n",
       "├──────────────────────────────────────┼─────────────────────────────┼─────────────────┤\n",
       "│ dropout_6 (\u001b[38;5;33mDropout\u001b[0m)                  │ (\u001b[38;5;45mNone\u001b[0m, \u001b[38;5;34m60\u001b[0m, \u001b[38;5;34m50\u001b[0m)              │               \u001b[38;5;34m0\u001b[0m │\n",
       "├──────────────────────────────────────┼─────────────────────────────┼─────────────────┤\n",
       "│ lstm_1 (\u001b[38;5;33mLSTM\u001b[0m)                        │ (\u001b[38;5;45mNone\u001b[0m, \u001b[38;5;34m60\u001b[0m, \u001b[38;5;34m50\u001b[0m)              │          \u001b[38;5;34m20,200\u001b[0m │\n",
       "├──────────────────────────────────────┼─────────────────────────────┼─────────────────┤\n",
       "│ dropout_7 (\u001b[38;5;33mDropout\u001b[0m)                  │ (\u001b[38;5;45mNone\u001b[0m, \u001b[38;5;34m60\u001b[0m, \u001b[38;5;34m50\u001b[0m)              │               \u001b[38;5;34m0\u001b[0m │\n",
       "├──────────────────────────────────────┼─────────────────────────────┼─────────────────┤\n",
       "│ lstm_2 (\u001b[38;5;33mLSTM\u001b[0m)                        │ (\u001b[38;5;45mNone\u001b[0m, \u001b[38;5;34m60\u001b[0m, \u001b[38;5;34m50\u001b[0m)              │          \u001b[38;5;34m20,200\u001b[0m │\n",
       "├──────────────────────────────────────┼─────────────────────────────┼─────────────────┤\n",
       "│ dropout_8 (\u001b[38;5;33mDropout\u001b[0m)                  │ (\u001b[38;5;45mNone\u001b[0m, \u001b[38;5;34m60\u001b[0m, \u001b[38;5;34m50\u001b[0m)              │               \u001b[38;5;34m0\u001b[0m │\n",
       "├──────────────────────────────────────┼─────────────────────────────┼─────────────────┤\n",
       "│ lstm_3 (\u001b[38;5;33mLSTM\u001b[0m)                        │ (\u001b[38;5;45mNone\u001b[0m, \u001b[38;5;34m50\u001b[0m)                  │          \u001b[38;5;34m20,200\u001b[0m │\n",
       "├──────────────────────────────────────┼─────────────────────────────┼─────────────────┤\n",
       "│ dropout_9 (\u001b[38;5;33mDropout\u001b[0m)                  │ (\u001b[38;5;45mNone\u001b[0m, \u001b[38;5;34m50\u001b[0m)                  │               \u001b[38;5;34m0\u001b[0m │\n",
       "├──────────────────────────────────────┼─────────────────────────────┼─────────────────┤\n",
       "│ dense_2 (\u001b[38;5;33mDense\u001b[0m)                      │ (\u001b[38;5;45mNone\u001b[0m, \u001b[38;5;34m1\u001b[0m)                   │              \u001b[38;5;34m51\u001b[0m │\n",
       "└──────────────────────────────────────┴─────────────────────────────┴─────────────────┘\n"
      ]
     },
     "metadata": {},
     "output_type": "display_data"
    },
    {
     "data": {
      "text/html": [
       "<pre style=\"white-space:pre;overflow-x:auto;line-height:normal;font-family:Menlo,'DejaVu Sans Mono',consolas,'Courier New',monospace\"><span style=\"font-weight: bold\"> Total params: </span><span style=\"color: #00af00; text-decoration-color: #00af00\">71,051</span> (277.54 KB)\n",
       "</pre>\n"
      ],
      "text/plain": [
       "\u001b[1m Total params: \u001b[0m\u001b[38;5;34m71,051\u001b[0m (277.54 KB)\n"
      ]
     },
     "metadata": {},
     "output_type": "display_data"
    },
    {
     "data": {
      "text/html": [
       "<pre style=\"white-space:pre;overflow-x:auto;line-height:normal;font-family:Menlo,'DejaVu Sans Mono',consolas,'Courier New',monospace\"><span style=\"font-weight: bold\"> Trainable params: </span><span style=\"color: #00af00; text-decoration-color: #00af00\">71,051</span> (277.54 KB)\n",
       "</pre>\n"
      ],
      "text/plain": [
       "\u001b[1m Trainable params: \u001b[0m\u001b[38;5;34m71,051\u001b[0m (277.54 KB)\n"
      ]
     },
     "metadata": {},
     "output_type": "display_data"
    },
    {
     "data": {
      "text/html": [
       "<pre style=\"white-space:pre;overflow-x:auto;line-height:normal;font-family:Menlo,'DejaVu Sans Mono',consolas,'Courier New',monospace\"><span style=\"font-weight: bold\"> Non-trainable params: </span><span style=\"color: #00af00; text-decoration-color: #00af00\">0</span> (0.00 B)\n",
       "</pre>\n"
      ],
      "text/plain": [
       "\u001b[1m Non-trainable params: \u001b[0m\u001b[38;5;34m0\u001b[0m (0.00 B)\n"
      ]
     },
     "metadata": {},
     "output_type": "display_data"
    }
   ],
   "source": [
    "model1 = keras.Sequential()\n",
    "model1.add(layers.LSTM(units=50,return_sequences=True,input_shape=(X_train.shape[1], 1)))\n",
    "model1.add(keras.layers.Dropout(0.2))\n",
    "model1.add(layers.LSTM(units=50,return_sequences=True))\n",
    "model1.add(keras.layers.Dropout(0.2))\n",
    "model1.add(layers.LSTM(units=50,return_sequences=True))\n",
    "model1.add(keras.layers.Dropout(0.2))\n",
    "model1.add(layers.LSTM(units=50))\n",
    "model1.add(keras.layers.Dropout(0.2))\n",
    "model1.add(keras.layers.Dense(units=1))\n",
    "model1.summary()"
   ]
  },
  {
   "cell_type": "code",
   "execution_count": 37,
   "metadata": {
    "colab": {
     "base_uri": "https://localhost:8080/"
    },
    "id": "eoTEztnUTspy",
    "outputId": "7119626c-c469-43c6-9b3c-30b175fd70c1"
   },
   "outputs": [
    {
     "name": "stdout",
     "output_type": "stream",
     "text": [
      "Epoch 1/100\n",
      "\u001b[1m161/161\u001b[0m \u001b[32m━━━━━━━━━━━━━━━━━━━━\u001b[0m\u001b[37m\u001b[0m \u001b[1m12s\u001b[0m 41ms/step - loss: 7.9798e-05\n",
      "Epoch 2/100\n",
      "\u001b[1m161/161\u001b[0m \u001b[32m━━━━━━━━━━━━━━━━━━━━\u001b[0m\u001b[37m\u001b[0m \u001b[1m6s\u001b[0m 39ms/step - loss: 6.3007e-06\n",
      "Epoch 3/100\n",
      "\u001b[1m161/161\u001b[0m \u001b[32m━━━━━━━━━━━━━━━━━━━━\u001b[0m\u001b[37m\u001b[0m \u001b[1m5s\u001b[0m 34ms/step - loss: 4.2219e-06\n",
      "Epoch 4/100\n",
      "\u001b[1m161/161\u001b[0m \u001b[32m━━━━━━━━━━━━━━━━━━━━\u001b[0m\u001b[37m\u001b[0m \u001b[1m6s\u001b[0m 36ms/step - loss: 3.2054e-06\n",
      "Epoch 5/100\n",
      "\u001b[1m161/161\u001b[0m \u001b[32m━━━━━━━━━━━━━━━━━━━━\u001b[0m\u001b[37m\u001b[0m \u001b[1m6s\u001b[0m 34ms/step - loss: 3.7635e-06\n",
      "Epoch 6/100\n",
      "\u001b[1m161/161\u001b[0m \u001b[32m━━━━━━━━━━━━━━━━━━━━\u001b[0m\u001b[37m\u001b[0m \u001b[1m6s\u001b[0m 36ms/step - loss: 4.5581e-06\n",
      "Epoch 7/100\n",
      "\u001b[1m161/161\u001b[0m \u001b[32m━━━━━━━━━━━━━━━━━━━━\u001b[0m\u001b[37m\u001b[0m \u001b[1m6s\u001b[0m 39ms/step - loss: 3.8987e-06\n",
      "Epoch 8/100\n",
      "\u001b[1m161/161\u001b[0m \u001b[32m━━━━━━━━━━━━━━━━━━━━\u001b[0m\u001b[37m\u001b[0m \u001b[1m6s\u001b[0m 35ms/step - loss: 4.8281e-06\n",
      "Epoch 9/100\n",
      "\u001b[1m161/161\u001b[0m \u001b[32m━━━━━━━━━━━━━━━━━━━━\u001b[0m\u001b[37m\u001b[0m \u001b[1m6s\u001b[0m 37ms/step - loss: 2.9449e-06\n",
      "Epoch 10/100\n",
      "\u001b[1m161/161\u001b[0m \u001b[32m━━━━━━━━━━━━━━━━━━━━\u001b[0m\u001b[37m\u001b[0m \u001b[1m6s\u001b[0m 36ms/step - loss: 3.3041e-06\n",
      "Epoch 11/100\n",
      "\u001b[1m161/161\u001b[0m \u001b[32m━━━━━━━━━━━━━━━━━━━━\u001b[0m\u001b[37m\u001b[0m \u001b[1m6s\u001b[0m 37ms/step - loss: 3.1404e-06\n",
      "Epoch 12/100\n",
      "\u001b[1m161/161\u001b[0m \u001b[32m━━━━━━━━━━━━━━━━━━━━\u001b[0m\u001b[37m\u001b[0m \u001b[1m6s\u001b[0m 37ms/step - loss: 3.2372e-06\n",
      "Epoch 13/100\n",
      "\u001b[1m161/161\u001b[0m \u001b[32m━━━━━━━━━━━━━━━━━━━━\u001b[0m\u001b[37m\u001b[0m \u001b[1m6s\u001b[0m 37ms/step - loss: 3.5886e-06\n",
      "Epoch 14/100\n",
      "\u001b[1m161/161\u001b[0m \u001b[32m━━━━━━━━━━━━━━━━━━━━\u001b[0m\u001b[37m\u001b[0m \u001b[1m6s\u001b[0m 35ms/step - loss: 4.0656e-06\n",
      "Epoch 15/100\n",
      "\u001b[1m161/161\u001b[0m \u001b[32m━━━━━━━━━━━━━━━━━━━━\u001b[0m\u001b[37m\u001b[0m \u001b[1m6s\u001b[0m 37ms/step - loss: 3.0967e-06\n",
      "Epoch 16/100\n",
      "\u001b[1m161/161\u001b[0m \u001b[32m━━━━━━━━━━━━━━━━━━━━\u001b[0m\u001b[37m\u001b[0m \u001b[1m6s\u001b[0m 35ms/step - loss: 2.4594e-06\n",
      "Epoch 17/100\n",
      "\u001b[1m161/161\u001b[0m \u001b[32m━━━━━━━━━━━━━━━━━━━━\u001b[0m\u001b[37m\u001b[0m \u001b[1m6s\u001b[0m 36ms/step - loss: 2.8252e-06\n",
      "Epoch 18/100\n",
      "\u001b[1m161/161\u001b[0m \u001b[32m━━━━━━━━━━━━━━━━━━━━\u001b[0m\u001b[37m\u001b[0m \u001b[1m6s\u001b[0m 37ms/step - loss: 2.2069e-06\n",
      "Epoch 19/100\n",
      "\u001b[1m161/161\u001b[0m \u001b[32m━━━━━━━━━━━━━━━━━━━━\u001b[0m\u001b[37m\u001b[0m \u001b[1m6s\u001b[0m 35ms/step - loss: 2.7318e-06\n",
      "Epoch 20/100\n",
      "\u001b[1m161/161\u001b[0m \u001b[32m━━━━━━━━━━━━━━━━━━━━\u001b[0m\u001b[37m\u001b[0m \u001b[1m6s\u001b[0m 37ms/step - loss: 3.1590e-06\n",
      "Epoch 21/100\n",
      "\u001b[1m161/161\u001b[0m \u001b[32m━━━━━━━━━━━━━━━━━━━━\u001b[0m\u001b[37m\u001b[0m \u001b[1m6s\u001b[0m 37ms/step - loss: 2.6640e-06\n",
      "Epoch 22/100\n",
      "\u001b[1m161/161\u001b[0m \u001b[32m━━━━━━━━━━━━━━━━━━━━\u001b[0m\u001b[37m\u001b[0m \u001b[1m6s\u001b[0m 36ms/step - loss: 4.3882e-06\n",
      "Epoch 23/100\n",
      "\u001b[1m161/161\u001b[0m \u001b[32m━━━━━━━━━━━━━━━━━━━━\u001b[0m\u001b[37m\u001b[0m \u001b[1m6s\u001b[0m 38ms/step - loss: 2.5912e-06\n",
      "Epoch 24/100\n",
      "\u001b[1m161/161\u001b[0m \u001b[32m━━━━━━━━━━━━━━━━━━━━\u001b[0m\u001b[37m\u001b[0m \u001b[1m7s\u001b[0m 42ms/step - loss: 3.8965e-06\n",
      "Epoch 25/100\n",
      "\u001b[1m161/161\u001b[0m \u001b[32m━━━━━━━━━━━━━━━━━━━━\u001b[0m\u001b[37m\u001b[0m \u001b[1m7s\u001b[0m 41ms/step - loss: 2.5449e-06\n",
      "Epoch 26/100\n",
      "\u001b[1m161/161\u001b[0m \u001b[32m━━━━━━━━━━━━━━━━━━━━\u001b[0m\u001b[37m\u001b[0m \u001b[1m6s\u001b[0m 37ms/step - loss: 2.1386e-06\n",
      "Epoch 27/100\n",
      "\u001b[1m161/161\u001b[0m \u001b[32m━━━━━━━━━━━━━━━━━━━━\u001b[0m\u001b[37m\u001b[0m \u001b[1m6s\u001b[0m 36ms/step - loss: 2.5132e-06\n",
      "Epoch 28/100\n",
      "\u001b[1m161/161\u001b[0m \u001b[32m━━━━━━━━━━━━━━━━━━━━\u001b[0m\u001b[37m\u001b[0m \u001b[1m6s\u001b[0m 37ms/step - loss: 2.5799e-06\n",
      "Epoch 29/100\n",
      "\u001b[1m161/161\u001b[0m \u001b[32m━━━━━━━━━━━━━━━━━━━━\u001b[0m\u001b[37m\u001b[0m \u001b[1m6s\u001b[0m 39ms/step - loss: 2.5953e-06\n",
      "Epoch 30/100\n",
      "\u001b[1m161/161\u001b[0m \u001b[32m━━━━━━━━━━━━━━━━━━━━\u001b[0m\u001b[37m\u001b[0m \u001b[1m6s\u001b[0m 36ms/step - loss: 2.7566e-06\n",
      "Epoch 31/100\n",
      "\u001b[1m161/161\u001b[0m \u001b[32m━━━━━━━━━━━━━━━━━━━━\u001b[0m\u001b[37m\u001b[0m \u001b[1m6s\u001b[0m 37ms/step - loss: 2.5653e-06\n",
      "Epoch 32/100\n",
      "\u001b[1m161/161\u001b[0m \u001b[32m━━━━━━━━━━━━━━━━━━━━\u001b[0m\u001b[37m\u001b[0m \u001b[1m6s\u001b[0m 35ms/step - loss: 2.7419e-06\n",
      "Epoch 33/100\n",
      "\u001b[1m161/161\u001b[0m \u001b[32m━━━━━━━━━━━━━━━━━━━━\u001b[0m\u001b[37m\u001b[0m \u001b[1m6s\u001b[0m 37ms/step - loss: 2.3109e-06\n",
      "Epoch 34/100\n",
      "\u001b[1m161/161\u001b[0m \u001b[32m━━━━━━━━━━━━━━━━━━━━\u001b[0m\u001b[37m\u001b[0m \u001b[1m6s\u001b[0m 38ms/step - loss: 2.3457e-06\n",
      "Epoch 35/100\n",
      "\u001b[1m161/161\u001b[0m \u001b[32m━━━━━━━━━━━━━━━━━━━━\u001b[0m\u001b[37m\u001b[0m \u001b[1m6s\u001b[0m 37ms/step - loss: 3.0628e-06\n",
      "Epoch 36/100\n",
      "\u001b[1m161/161\u001b[0m \u001b[32m━━━━━━━━━━━━━━━━━━━━\u001b[0m\u001b[37m\u001b[0m \u001b[1m6s\u001b[0m 37ms/step - loss: 2.3608e-06\n",
      "Epoch 37/100\n",
      "\u001b[1m161/161\u001b[0m \u001b[32m━━━━━━━━━━━━━━━━━━━━\u001b[0m\u001b[37m\u001b[0m \u001b[1m6s\u001b[0m 38ms/step - loss: 2.1037e-06\n",
      "Epoch 38/100\n",
      "\u001b[1m161/161\u001b[0m \u001b[32m━━━━━━━━━━━━━━━━━━━━\u001b[0m\u001b[37m\u001b[0m \u001b[1m6s\u001b[0m 39ms/step - loss: 2.0968e-06\n",
      "Epoch 39/100\n",
      "\u001b[1m161/161\u001b[0m \u001b[32m━━━━━━━━━━━━━━━━━━━━\u001b[0m\u001b[37m\u001b[0m \u001b[1m6s\u001b[0m 40ms/step - loss: 2.6714e-06\n",
      "Epoch 40/100\n",
      "\u001b[1m161/161\u001b[0m \u001b[32m━━━━━━━━━━━━━━━━━━━━\u001b[0m\u001b[37m\u001b[0m \u001b[1m6s\u001b[0m 37ms/step - loss: 2.1786e-06\n",
      "Epoch 41/100\n",
      "\u001b[1m161/161\u001b[0m \u001b[32m━━━━━━━━━━━━━━━━━━━━\u001b[0m\u001b[37m\u001b[0m \u001b[1m6s\u001b[0m 36ms/step - loss: 2.8039e-06\n",
      "Epoch 42/100\n",
      "\u001b[1m161/161\u001b[0m \u001b[32m━━━━━━━━━━━━━━━━━━━━\u001b[0m\u001b[37m\u001b[0m \u001b[1m6s\u001b[0m 39ms/step - loss: 2.0959e-06\n",
      "Epoch 43/100\n",
      "\u001b[1m161/161\u001b[0m \u001b[32m━━━━━━━━━━━━━━━━━━━━\u001b[0m\u001b[37m\u001b[0m \u001b[1m6s\u001b[0m 37ms/step - loss: 2.0293e-06\n",
      "Epoch 44/100\n",
      "\u001b[1m161/161\u001b[0m \u001b[32m━━━━━━━━━━━━━━━━━━━━\u001b[0m\u001b[37m\u001b[0m \u001b[1m6s\u001b[0m 38ms/step - loss: 2.2401e-06\n",
      "Epoch 45/100\n",
      "\u001b[1m161/161\u001b[0m \u001b[32m━━━━━━━━━━━━━━━━━━━━\u001b[0m\u001b[37m\u001b[0m \u001b[1m6s\u001b[0m 36ms/step - loss: 2.0034e-06\n",
      "Epoch 46/100\n",
      "\u001b[1m161/161\u001b[0m \u001b[32m━━━━━━━━━━━━━━━━━━━━\u001b[0m\u001b[37m\u001b[0m \u001b[1m6s\u001b[0m 40ms/step - loss: 1.9186e-06\n",
      "Epoch 47/100\n",
      "\u001b[1m161/161\u001b[0m \u001b[32m━━━━━━━━━━━━━━━━━━━━\u001b[0m\u001b[37m\u001b[0m \u001b[1m7s\u001b[0m 41ms/step - loss: 2.8506e-06\n",
      "Epoch 48/100\n",
      "\u001b[1m161/161\u001b[0m \u001b[32m━━━━━━━━━━━━━━━━━━━━\u001b[0m\u001b[37m\u001b[0m \u001b[1m6s\u001b[0m 39ms/step - loss: 2.3936e-06\n",
      "Epoch 49/100\n",
      "\u001b[1m161/161\u001b[0m \u001b[32m━━━━━━━━━━━━━━━━━━━━\u001b[0m\u001b[37m\u001b[0m \u001b[1m7s\u001b[0m 40ms/step - loss: 2.0719e-06\n",
      "Epoch 50/100\n",
      "\u001b[1m161/161\u001b[0m \u001b[32m━━━━━━━━━━━━━━━━━━━━\u001b[0m\u001b[37m\u001b[0m \u001b[1m6s\u001b[0m 38ms/step - loss: 2.2478e-06\n",
      "Epoch 51/100\n",
      "\u001b[1m161/161\u001b[0m \u001b[32m━━━━━━━━━━━━━━━━━━━━\u001b[0m\u001b[37m\u001b[0m \u001b[1m6s\u001b[0m 35ms/step - loss: 2.0438e-06\n",
      "Epoch 52/100\n",
      "\u001b[1m161/161\u001b[0m \u001b[32m━━━━━━━━━━━━━━━━━━━━\u001b[0m\u001b[37m\u001b[0m \u001b[1m6s\u001b[0m 39ms/step - loss: 2.2134e-06\n",
      "Epoch 53/100\n",
      "\u001b[1m161/161\u001b[0m \u001b[32m━━━━━━━━━━━━━━━━━━━━\u001b[0m\u001b[37m\u001b[0m \u001b[1m6s\u001b[0m 36ms/step - loss: 2.3992e-06\n",
      "Epoch 54/100\n",
      "\u001b[1m161/161\u001b[0m \u001b[32m━━━━━━━━━━━━━━━━━━━━\u001b[0m\u001b[37m\u001b[0m \u001b[1m6s\u001b[0m 35ms/step - loss: 2.5008e-06\n",
      "Epoch 55/100\n",
      "\u001b[1m161/161\u001b[0m \u001b[32m━━━━━━━━━━━━━━━━━━━━\u001b[0m\u001b[37m\u001b[0m \u001b[1m6s\u001b[0m 38ms/step - loss: 2.0009e-06\n",
      "Epoch 56/100\n",
      "\u001b[1m161/161\u001b[0m \u001b[32m━━━━━━━━━━━━━━━━━━━━\u001b[0m\u001b[37m\u001b[0m \u001b[1m6s\u001b[0m 36ms/step - loss: 2.5452e-06\n",
      "Epoch 57/100\n",
      "\u001b[1m161/161\u001b[0m \u001b[32m━━━━━━━━━━━━━━━━━━━━\u001b[0m\u001b[37m\u001b[0m \u001b[1m6s\u001b[0m 38ms/step - loss: 2.6200e-06\n",
      "Epoch 58/100\n",
      "\u001b[1m161/161\u001b[0m \u001b[32m━━━━━━━━━━━━━━━━━━━━\u001b[0m\u001b[37m\u001b[0m \u001b[1m6s\u001b[0m 36ms/step - loss: 1.9790e-06\n",
      "Epoch 59/100\n",
      "\u001b[1m161/161\u001b[0m \u001b[32m━━━━━━━━━━━━━━━━━━━━\u001b[0m\u001b[37m\u001b[0m \u001b[1m6s\u001b[0m 37ms/step - loss: 2.1597e-06\n",
      "Epoch 60/100\n",
      "\u001b[1m161/161\u001b[0m \u001b[32m━━━━━━━━━━━━━━━━━━━━\u001b[0m\u001b[37m\u001b[0m \u001b[1m6s\u001b[0m 39ms/step - loss: 1.9736e-06\n",
      "Epoch 61/100\n",
      "\u001b[1m161/161\u001b[0m \u001b[32m━━━━━━━━━━━━━━━━━━━━\u001b[0m\u001b[37m\u001b[0m \u001b[1m6s\u001b[0m 38ms/step - loss: 2.5029e-06\n",
      "Epoch 62/100\n",
      "\u001b[1m161/161\u001b[0m \u001b[32m━━━━━━━━━━━━━━━━━━━━\u001b[0m\u001b[37m\u001b[0m \u001b[1m6s\u001b[0m 36ms/step - loss: 2.2632e-06\n",
      "Epoch 63/100\n",
      "\u001b[1m161/161\u001b[0m \u001b[32m━━━━━━━━━━━━━━━━━━━━\u001b[0m\u001b[37m\u001b[0m \u001b[1m7s\u001b[0m 41ms/step - loss: 1.9158e-06\n",
      "Epoch 64/100\n",
      "\u001b[1m161/161\u001b[0m \u001b[32m━━━━━━━━━━━━━━━━━━━━\u001b[0m\u001b[37m\u001b[0m \u001b[1m6s\u001b[0m 37ms/step - loss: 1.9076e-06\n",
      "Epoch 65/100\n",
      "\u001b[1m161/161\u001b[0m \u001b[32m━━━━━━━━━━━━━━━━━━━━\u001b[0m\u001b[37m\u001b[0m \u001b[1m6s\u001b[0m 38ms/step - loss: 2.3074e-06\n",
      "Epoch 66/100\n",
      "\u001b[1m161/161\u001b[0m \u001b[32m━━━━━━━━━━━━━━━━━━━━\u001b[0m\u001b[37m\u001b[0m \u001b[1m6s\u001b[0m 40ms/step - loss: 2.3341e-06\n",
      "Epoch 67/100\n",
      "\u001b[1m161/161\u001b[0m \u001b[32m━━━━━━━━━━━━━━━━━━━━\u001b[0m\u001b[37m\u001b[0m \u001b[1m6s\u001b[0m 36ms/step - loss: 2.4310e-06\n",
      "Epoch 68/100\n",
      "\u001b[1m161/161\u001b[0m \u001b[32m━━━━━━━━━━━━━━━━━━━━\u001b[0m\u001b[37m\u001b[0m \u001b[1m6s\u001b[0m 39ms/step - loss: 2.3589e-06\n",
      "Epoch 69/100\n",
      "\u001b[1m161/161\u001b[0m \u001b[32m━━━━━━━━━━━━━━━━━━━━\u001b[0m\u001b[37m\u001b[0m \u001b[1m6s\u001b[0m 36ms/step - loss: 1.9306e-06\n",
      "Epoch 70/100\n",
      "\u001b[1m161/161\u001b[0m \u001b[32m━━━━━━━━━━━━━━━━━━━━\u001b[0m\u001b[37m\u001b[0m \u001b[1m6s\u001b[0m 38ms/step - loss: 1.9325e-06\n",
      "Epoch 71/100\n",
      "\u001b[1m161/161\u001b[0m \u001b[32m━━━━━━━━━━━━━━━━━━━━\u001b[0m\u001b[37m\u001b[0m \u001b[1m6s\u001b[0m 38ms/step - loss: 2.0522e-06\n",
      "Epoch 72/100\n",
      "\u001b[1m161/161\u001b[0m \u001b[32m━━━━━━━━━━━━━━━━━━━━\u001b[0m\u001b[37m\u001b[0m \u001b[1m6s\u001b[0m 36ms/step - loss: 2.1413e-06\n",
      "Epoch 73/100\n",
      "\u001b[1m161/161\u001b[0m \u001b[32m━━━━━━━━━━━━━━━━━━━━\u001b[0m\u001b[37m\u001b[0m \u001b[1m6s\u001b[0m 39ms/step - loss: 1.8321e-06\n",
      "Epoch 74/100\n",
      "\u001b[1m161/161\u001b[0m \u001b[32m━━━━━━━━━━━━━━━━━━━━\u001b[0m\u001b[37m\u001b[0m \u001b[1m6s\u001b[0m 36ms/step - loss: 1.7129e-06\n",
      "Epoch 75/100\n",
      "\u001b[1m161/161\u001b[0m \u001b[32m━━━━━━━━━━━━━━━━━━━━\u001b[0m\u001b[37m\u001b[0m \u001b[1m6s\u001b[0m 39ms/step - loss: 1.5781e-06\n",
      "Epoch 76/100\n",
      "\u001b[1m161/161\u001b[0m \u001b[32m━━━━━━━━━━━━━━━━━━━━\u001b[0m\u001b[37m\u001b[0m \u001b[1m6s\u001b[0m 37ms/step - loss: 1.8546e-06\n",
      "Epoch 77/100\n",
      "\u001b[1m161/161\u001b[0m \u001b[32m━━━━━━━━━━━━━━━━━━━━\u001b[0m\u001b[37m\u001b[0m \u001b[1m6s\u001b[0m 38ms/step - loss: 1.7355e-06\n",
      "Epoch 78/100\n",
      "\u001b[1m161/161\u001b[0m \u001b[32m━━━━━━━━━━━━━━━━━━━━\u001b[0m\u001b[37m\u001b[0m \u001b[1m6s\u001b[0m 38ms/step - loss: 1.7779e-06\n",
      "Epoch 79/100\n",
      "\u001b[1m161/161\u001b[0m \u001b[32m━━━━━━━━━━━━━━━━━━━━\u001b[0m\u001b[37m\u001b[0m \u001b[1m6s\u001b[0m 37ms/step - loss: 3.7587e-06\n",
      "Epoch 80/100\n",
      "\u001b[1m161/161\u001b[0m \u001b[32m━━━━━━━━━━━━━━━━━━━━\u001b[0m\u001b[37m\u001b[0m \u001b[1m6s\u001b[0m 37ms/step - loss: 2.3291e-06\n",
      "Epoch 81/100\n",
      "\u001b[1m161/161\u001b[0m \u001b[32m━━━━━━━━━━━━━━━━━━━━\u001b[0m\u001b[37m\u001b[0m \u001b[1m6s\u001b[0m 38ms/step - loss: 2.1872e-06\n",
      "Epoch 82/100\n",
      "\u001b[1m161/161\u001b[0m \u001b[32m━━━━━━━━━━━━━━━━━━━━\u001b[0m\u001b[37m\u001b[0m \u001b[1m6s\u001b[0m 37ms/step - loss: 2.0102e-06\n",
      "Epoch 83/100\n",
      "\u001b[1m161/161\u001b[0m \u001b[32m━━━━━━━━━━━━━━━━━━━━\u001b[0m\u001b[37m\u001b[0m \u001b[1m6s\u001b[0m 37ms/step - loss: 1.6484e-06\n",
      "Epoch 84/100\n",
      "\u001b[1m161/161\u001b[0m \u001b[32m━━━━━━━━━━━━━━━━━━━━\u001b[0m\u001b[37m\u001b[0m \u001b[1m6s\u001b[0m 39ms/step - loss: 2.0647e-06\n",
      "Epoch 85/100\n",
      "\u001b[1m161/161\u001b[0m \u001b[32m━━━━━━━━━━━━━━━━━━━━\u001b[0m\u001b[37m\u001b[0m \u001b[1m6s\u001b[0m 36ms/step - loss: 1.8189e-06\n",
      "Epoch 86/100\n",
      "\u001b[1m161/161\u001b[0m \u001b[32m━━━━━━━━━━━━━━━━━━━━\u001b[0m\u001b[37m\u001b[0m \u001b[1m6s\u001b[0m 37ms/step - loss: 2.2074e-06\n",
      "Epoch 87/100\n",
      "\u001b[1m161/161\u001b[0m \u001b[32m━━━━━━━━━━━━━━━━━━━━\u001b[0m\u001b[37m\u001b[0m \u001b[1m6s\u001b[0m 38ms/step - loss: 1.6578e-06\n",
      "Epoch 88/100\n",
      "\u001b[1m161/161\u001b[0m \u001b[32m━━━━━━━━━━━━━━━━━━━━\u001b[0m\u001b[37m\u001b[0m \u001b[1m6s\u001b[0m 35ms/step - loss: 2.0159e-06\n",
      "Epoch 89/100\n",
      "\u001b[1m161/161\u001b[0m \u001b[32m━━━━━━━━━━━━━━━━━━━━\u001b[0m\u001b[37m\u001b[0m \u001b[1m6s\u001b[0m 39ms/step - loss: 1.7704e-06\n",
      "Epoch 90/100\n",
      "\u001b[1m161/161\u001b[0m \u001b[32m━━━━━━━━━━━━━━━━━━━━\u001b[0m\u001b[37m\u001b[0m \u001b[1m6s\u001b[0m 35ms/step - loss: 2.1738e-06\n",
      "Epoch 91/100\n",
      "\u001b[1m161/161\u001b[0m \u001b[32m━━━━━━━━━━━━━━━━━━━━\u001b[0m\u001b[37m\u001b[0m \u001b[1m6s\u001b[0m 39ms/step - loss: 2.0569e-06\n",
      "Epoch 92/100\n",
      "\u001b[1m161/161\u001b[0m \u001b[32m━━━━━━━━━━━━━━━━━━━━\u001b[0m\u001b[37m\u001b[0m \u001b[1m6s\u001b[0m 38ms/step - loss: 1.9283e-06\n",
      "Epoch 93/100\n",
      "\u001b[1m161/161\u001b[0m \u001b[32m━━━━━━━━━━━━━━━━━━━━\u001b[0m\u001b[37m\u001b[0m \u001b[1m6s\u001b[0m 37ms/step - loss: 2.0678e-06\n",
      "Epoch 94/100\n",
      "\u001b[1m161/161\u001b[0m \u001b[32m━━━━━━━━━━━━━━━━━━━━\u001b[0m\u001b[37m\u001b[0m \u001b[1m6s\u001b[0m 38ms/step - loss: 1.7213e-06\n",
      "Epoch 95/100\n",
      "\u001b[1m161/161\u001b[0m \u001b[32m━━━━━━━━━━━━━━━━━━━━\u001b[0m\u001b[37m\u001b[0m \u001b[1m6s\u001b[0m 37ms/step - loss: 1.8980e-06\n",
      "Epoch 96/100\n",
      "\u001b[1m161/161\u001b[0m \u001b[32m━━━━━━━━━━━━━━━━━━━━\u001b[0m\u001b[37m\u001b[0m \u001b[1m6s\u001b[0m 38ms/step - loss: 2.2610e-06\n",
      "Epoch 97/100\n",
      "\u001b[1m161/161\u001b[0m \u001b[32m━━━━━━━━━━━━━━━━━━━━\u001b[0m\u001b[37m\u001b[0m \u001b[1m6s\u001b[0m 40ms/step - loss: 1.6597e-06\n",
      "Epoch 98/100\n",
      "\u001b[1m161/161\u001b[0m \u001b[32m━━━━━━━━━━━━━━━━━━━━\u001b[0m\u001b[37m\u001b[0m \u001b[1m6s\u001b[0m 40ms/step - loss: 2.3219e-06\n",
      "Epoch 99/100\n",
      "\u001b[1m161/161\u001b[0m \u001b[32m━━━━━━━━━━━━━━━━━━━━\u001b[0m\u001b[37m\u001b[0m \u001b[1m7s\u001b[0m 43ms/step - loss: 1.7812e-06\n",
      "Epoch 100/100\n",
      "\u001b[1m161/161\u001b[0m \u001b[32m━━━━━━━━━━━━━━━━━━━━\u001b[0m\u001b[37m\u001b[0m \u001b[1m7s\u001b[0m 40ms/step - loss: 1.5329e-06\n"
     ]
    },
    {
     "data": {
      "text/plain": [
       "<keras.src.callbacks.history.History at 0x1d9627410a0>"
      ]
     },
     "execution_count": 37,
     "metadata": {},
     "output_type": "execute_result"
    }
   ],
   "source": [
    "model1.compile(optimizer='adam',loss='mean_squared_error')\n",
    "model1.fit(X_train1,y_train1,epochs=100,batch_size=32)"
   ]
  },
  {
   "cell_type": "code",
   "execution_count": 38,
   "metadata": {
    "colab": {
     "base_uri": "https://localhost:8080/"
    },
    "id": "adb48hUtYhS5",
    "outputId": "2f330cac-e0f7-4fc4-d060-7e313a159d30"
   },
   "outputs": [
    {
     "name": "stdout",
     "output_type": "stream",
     "text": [
      "\u001b[1m41/41\u001b[0m \u001b[32m━━━━━━━━━━━━━━━━━━━━\u001b[0m\u001b[37m\u001b[0m \u001b[1m2s\u001b[0m 29ms/step\n"
     ]
    }
   ],
   "source": [
    "predicted_stock_price = model1.predict(X_test1)"
   ]
  },
  {
   "cell_type": "code",
   "execution_count": 39,
   "metadata": {
    "id": "__fNQYdzhX_6"
   },
   "outputs": [],
   "source": [
    "predicted_stock_price = np.hstack((predicted_stock_price, predicted_stock_price))\n",
    "predicted_stock_price = sc.inverse_transform(predicted_stock_price)"
   ]
  },
  {
   "cell_type": "code",
   "execution_count": 40,
   "metadata": {
    "id": "IVpKRzXGhvmQ"
   },
   "outputs": [],
   "source": [
    "dummy_column = np.zeros_like(y_test1)\n",
    "y_test1_reshaped = np.column_stack([y_test1, dummy_column])\n",
    "inversed_y_test11 = sc.inverse_transform(y_test1_reshaped)\n",
    "inversed_y_test11 = inversed_y_test11[:, 0]"
   ]
  },
  {
   "cell_type": "code",
   "execution_count": 41,
   "metadata": {
    "colab": {
     "base_uri": "https://localhost:8080/",
     "height": 472
    },
    "id": "g_8gcFruheuG",
    "outputId": "ce11ae95-968d-465b-8b59-3de04bca7027"
   },
   "outputs": [
    {
     "data": {
      "image/png": "[encoded data removed]",
      "text/plain": [
       "<Figure size 640x480 with 1 Axes>"
      ]
     },
     "metadata": {},
     "output_type": "display_data"
    }
   ],
   "source": [
    "plt.plot(inversed_y_test11, color = 'black', label = 'NVDA Stock Price')\n",
    "plt.plot(predicted_stock_price, color = 'green', label = 'Predicted NVDA Stock Price')\n",
    "plt.title('NVDA Stock Price Prediction')\n",
    "plt.xlabel('Time')\n",
    "plt.ylabel('NVDA Stock Price')\n",
    "plt.legend()\n",
    "plt.show()"
   ]
  },
  {
   "cell_type": "code",
   "execution_count": 42,
   "metadata": {
    "id": "meDw6FW1iC8N"
   },
   "outputs": [],
   "source": [
    "rmse = np.sqrt(mean_squared_error(inversed_y_test11, predicted_stock_price[:, 0]))\n",
    "mae = mean_absolute_error(inversed_y_test11, predicted_stock_price[:, 0])\n",
    "r2 = r2_score(inversed_y_test11, predicted_stock_price[:, 0])"
   ]
  },
  {
   "cell_type": "code",
   "execution_count": 43,
   "metadata": {
    "colab": {
     "base_uri": "https://localhost:8080/"
    },
    "id": "gKFHPAm0iS-7",
    "outputId": "54e3a964-04a6-4f28-cc9d-a2effbe401a4"
   },
   "outputs": [
    {
     "name": "stdout",
     "output_type": "stream",
     "text": [
      "R2 for LSTM:  0.4567436653655246\n",
      "MAE for LSTM:  11.61077832592445\n",
      "RMSE for LSTM:  23.766246433421887\n"
     ]
    }
   ],
   "source": [
    "print(\"R2 for LSTM: \",r2)\n",
    "print(\"MAE for LSTM: \",mae)\n",
    "print(\"RMSE for LSTM: \",rmse)"
   ]
  },
  {
   "cell_type": "markdown",
   "metadata": {},
   "source": [
    "# Training XGBOOST"
   ]
  },
  {
   "cell_type": "code",
   "execution_count": 52,
   "metadata": {
    "id": "xmZcUbOvih05"
   },
   "outputs": [],
   "source": [
    "import xgboost as xgb\n",
    "from sklearn.model_selection import GridSearchCV"
   ]
  },
  {
   "cell_type": "code",
   "execution_count": 54,
   "metadata": {
    "id": "wlmf6wMjBF6s"
   },
   "outputs": [],
   "source": [
    "def compute_rsi(data, window=14):\n",
    "    delta = data['Close'].diff(1)\n",
    "    gain = (delta.where(delta > 0, 0)).rolling(window=window).mean()\n",
    "    loss = (-delta.where(delta < 0, 0)).rolling(window=window).mean()\n",
    "    rs = gain / loss\n",
    "    rsi = 100 - (100 / (1 + rs))\n",
    "    return rsi"
   ]
  },
  {
   "cell_type": "markdown",
   "metadata": {},
   "source": [
    "# Adding Lag Feature \n",
    "Adding past relation to "
   ]
  },
  {
   "cell_type": "code",
   "execution_count": 56,
   "metadata": {
    "colab": {
     "base_uri": "https://localhost:8080/"
    },
    "id": "-zx2eoaf8cnx",
    "outputId": "9342c6a7-123e-4000-bd61-fb8c8c8f1e96"
   },
   "outputs": [
    {
     "name": "stdout",
     "output_type": "stream",
     "text": [
      "              Date    Open    High     Low   Close  AdjClose       Volume  \\\n",
      "6510  Feb 10, 1999    0.04    0.04    0.04    0.04      0.03  148224000.0   \n",
      "6509  Feb 11, 1999    0.04    0.04    0.04    0.04      0.04  132240000.0   \n",
      "6508  Feb 12, 1999    0.04    0.04    0.04    0.04      0.04  109728000.0   \n",
      "6502  Feb 23, 1999    0.04    0.05    0.04    0.05      0.04  138096000.0   \n",
      "6501  Feb 24, 1999    0.05    0.05    0.05    0.05      0.05  612768000.0   \n",
      "...            ...     ...     ...     ...     ...       ...          ...   \n",
      "4      Oct 2, 2024  116.44  119.38  115.14  118.85    118.85  221845900.0   \n",
      "3      Oct 3, 2024  120.92  124.36  120.34  122.85    122.85  277118000.0   \n",
      "2      Oct 4, 2024  124.94  125.04  121.83  124.92    124.92  243678100.0   \n",
      "1      Oct 7, 2024  124.99  130.64  124.95  127.72    127.72  344944800.0   \n",
      "0      Oct 8, 2024  130.33  132.92  129.42  132.18    132.18  164371496.0   \n",
      "\n",
      "       Lag_1   Lag_3    SMA_5      EMA_10         RSI      EMA_12      EMA_26  \\\n",
      "6510    0.04    0.04    0.040    0.040164   50.000000    0.040207    0.040294   \n",
      "6509    0.04    0.04    0.040    0.040134   50.000000    0.040175    0.040272   \n",
      "6508    0.04    0.04    0.040    0.040110    0.000000    0.040148    0.040252   \n",
      "6502    0.04    0.04    0.042    0.041851  100.000000    0.041593    0.040900   \n",
      "6501    0.05    0.04    0.044    0.043333  100.000000    0.042886    0.041574   \n",
      "...      ...     ...      ...         ...         ...         ...         ...   \n",
      "4     117.00  121.40  120.546  119.191611   49.502573  118.943318  117.911732   \n",
      "3     118.85  121.44  120.308  119.856773   55.662942  119.544346  118.277530   \n",
      "2     122.85  117.00  121.012  120.777360   62.385879  120.371370  118.769564   \n",
      "1     124.92  118.85  122.268  122.039658   67.595010  121.501928  119.432560   \n",
      "0     127.72  122.85  125.304  123.883356   75.619722  123.144708  120.376814   \n",
      "\n",
      "          MACD   Signal_Line  MACD_Histogram  Pct_change  Cumulative_Returns  \n",
      "6510 -0.000087  2.547633e-05       -0.000112    0.000000                1.00  \n",
      "6509 -0.000097  9.790884e-07       -0.000098    0.000000                1.00  \n",
      "6508 -0.000104 -1.997927e-05       -0.000084    0.000000                1.00  \n",
      "6502  0.000693  7.487807e-05        0.000618    0.250000                1.25  \n",
      "6501  0.001313  3.224132e-04        0.000990    0.000000                1.25  \n",
      "...        ...           ...             ...         ...                 ...  \n",
      "4     1.031586  7.025665e-01        0.329019    0.015812             2971.25  \n",
      "3     1.266816  8.154165e-01        0.451400    0.033656             3071.25  \n",
      "2     1.601805  9.726942e-01        0.629111    0.016850             3123.00  \n",
      "1     2.069369  1.192029e+00        0.877339    0.022414             3193.00  \n",
      "0     2.767894  1.507202e+00        1.260692    0.034920             3304.50  \n",
      "\n",
      "[6419 rows x 19 columns]\n"
     ]
    }
   ],
   "source": [
    "df['Lag_1'] = df['Close'].shift(1)\n",
    "df['Lag_3'] = df['Close'].shift(3)\n",
    "\n",
    "df['SMA_5'] = df['Close'].rolling(window=5).mean()\n",
    "\n",
    "df['EMA_10'] = df['Close'].ewm(span=10, adjust=False).mean()\n",
    "\n",
    "df['RSI'] = compute_rsi(df, window=14)\n",
    "\n",
    "df['EMA_12'] = df['Close'].ewm(span=12, adjust=False).mean()\n",
    "df['EMA_26'] = df['Close'].ewm(span=26, adjust=False).mean()\n",
    "df['MACD'] = df['EMA_12'] - df['EMA_26']\n",
    "df['Signal_Line'] = df['MACD'].ewm(span=9, adjust=False).mean()\n",
    "df['MACD_Histogram'] = df['MACD'] - df['Signal_Line']\n",
    "\n",
    "df['Pct_change'] = df['Close'].pct_change()\n",
    "\n",
    "df['Cumulative_Returns'] = (1 + df['Pct_change']).cumprod()\n",
    "\n",
    "df = df.dropna()\n",
    "\n",
    "print(df)"
   ]
  },
  {
   "cell_type": "code",
   "execution_count": 58,
   "metadata": {
    "id": "CvaQzL_NBGzB"
   },
   "outputs": [],
   "source": [
    "X = df[['Lag_1', 'Lag_3', 'SMA_5', 'RSI', 'Pct_change']]\n",
    "y = df['Close']"
   ]
  },
  {
   "cell_type": "code",
   "execution_count": 60,
   "metadata": {
    "colab": {
     "base_uri": "https://localhost:8080/",
     "height": 581
    },
    "id": "Hu4ihj9WBODF",
    "outputId": "3d9351ba-87d6-407d-ecf5-015a918a2dbf"
   },
   "outputs": [
    {
     "name": "stdout",
     "output_type": "stream",
     "text": [
      "Mean Squared Error: 1609.7998027861843\n"
     ]
    },
    {
     "data": {
      "image/png": "[encoded data removed]",
      "text/plain": [
       "<Figure size 1000x600 with 1 Axes>"
      ]
     },
     "metadata": {},
     "output_type": "display_data"
    }
   ],
   "source": [
    "X_train, X_test, y_train, y_test = train_test_split(X, y, test_size=0.2, shuffle=False)\n",
    "\n",
    "model = xgb.XGBRegressor(n_estimators=100, learning_rate=0.1, max_depth=3)\n",
    "model.fit(X_train, y_train)\n",
    "\n",
    "y_pred = model.predict(X_test)\n",
    "\n",
    "mse = mean_squared_error(y_test, y_pred)\n",
    "print(f\"Mean Squared Error: {mse}\")\n",
    "\n",
    "plt.figure(figsize=(10, 6))\n",
    "plt.plot(y_test.reset_index(drop=True), color = 'black', label = 'NVDA Stock Price')\n",
    "plt.plot(y_pred, color = 'green', label = 'Predicted NVDA Stock Price')\n",
    "plt.title('True vs Predicted Stock Prices')\n",
    "plt.xlabel('Time')\n",
    "plt.ylabel('Price')\n",
    "plt.legend()\n",
    "plt.show()"
   ]
  },
  {
   "cell_type": "code",
   "execution_count": 66,
   "metadata": {
    "id": "TOmKJu9EBUOG"
   },
   "outputs": [
    {
     "name": "stdout",
     "output_type": "stream",
     "text": [
      "R2 for XGBOOST:  -0.61238041230012\n",
      "MAE for XGBOOST:  24.91053237497621\n",
      "RMSE for XGBOOST:  40.122310536485614\n"
     ]
    }
   ],
   "source": [
    "rmse = np.sqrt(mean_squared_error(y_test, y_pred))\n",
    "mae = mean_absolute_error(y_test, y_pred)\n",
    "r2 = r2_score(y_test, y_pred)\n",
    "print(\"R2 for XGBOOST: \",r2)\n",
    "print(\"MAE for XGBOOST: \",mae)\n",
    "print(\"RMSE for XGBOOST: \",rmse)"
   ]
  },
  {
   "cell_type": "code",
   "execution_count": 555,
   "metadata": {},
   "outputs": [],
   "source": [
    "import numpy as np\n",
    "from typing import List, Tuple\n",
    "\n",
    "class Tanh:\n",
    "    def forward(self, inputs):\n",
    "        self.output = np.tanh(inputs)\n",
    "        self.input = inputs\n",
    "    \n",
    "    def backward(self, dvalues):\n",
    "        deriv = 1 - self.output ** 2\n",
    "        self.dinputs = np.multiply(deriv, dvalues)\n",
    "\n",
    "class Sigmoid:\n",
    "    def forward(self, input):\n",
    "        self.input = input\n",
    "        self.output = np.clip(1 / (1 + np.exp(-input)), 1e-7, 1 - 1e-7)\n",
    "    \n",
    "    def backward(self, dvalue):\n",
    "        sigmoid = self.output\n",
    "        deriv = sigmoid * (1 - sigmoid)\n",
    "        self.dinput = deriv * dvalue\n",
    "\n",
    "class DenseLayer:\n",
    "    def __init__(self, n_input, n_neurons):\n",
    "        self.weights = 0.1 * np.random.randn(n_input, n_neurons)\n",
    "        self.biases = np.zeros((1, n_neurons))\n",
    "\n",
    "    def forward(self, input):\n",
    "        self.input = input\n",
    "        self.output = np.dot(input, self.weights) + self.biases\n",
    "\n",
    "    def backward(self, dvalues):\n",
    "        dvalues = dvalues.reshape(self.output.shape)\n",
    "        self.dweights = np.dot(self.input.T, dvalues)\n",
    "        self.dbiases = np.sum(dvalues, axis=0, keepdims=True)\n",
    "        self.dinput = np.dot(dvalues, self.weights.T)\n",
    "\n",
    "class LSTM:\n",
    "    def __init__(self, n_input: int, n_neurons: int) -> None:\n",
    "        self.n_input = n_input\n",
    "        self.n_neurons = n_neurons\n",
    "\n",
    "        # Weights and biases initialization\n",
    "        self.Uf = 0.1 * np.random.randn(n_neurons, n_input) \n",
    "        self.bf = np.zeros((n_neurons, 1)) \n",
    "        self.Wf = 0.1 * np.random.randn(n_neurons, n_neurons)\n",
    "\n",
    "        self.Ui = 0.1 * np.random.randn(n_neurons, n_input)\n",
    "        self.bi = np.zeros((n_neurons, 1))\n",
    "        self.Wi = 0.1 * np.random.randn(n_neurons, n_neurons)\n",
    "\n",
    "        self.Uo = 0.1 * np.random.randn(n_neurons, n_input)\n",
    "        self.bo = np.zeros((n_neurons, 1))\n",
    "        self.Wo = 0.1 * np.random.randn(n_neurons, n_neurons)\n",
    "\n",
    "        self.Ug = 0.1 * np.random.randn(n_neurons, n_input)\n",
    "        self.bg = np.zeros((n_neurons, 1))\n",
    "        self.Wg = 0.1 * np.random.randn(n_neurons, n_neurons)\n",
    "\n",
    "    def forward(self, X_t):\n",
    "        self.T = X_t.shape[0]\n",
    "        self.X_t = X_t\n",
    "\n",
    "        self.H = [np.zeros((self.n_neurons, 1)) for _ in range(self.T + 1)]\n",
    "        self.C = [np.zeros((self.n_neurons, 1)) for _ in range(self.T + 1)]\n",
    "        self.C_tilde = [np.zeros((self.n_neurons, 1)) for _ in range(self.T + 1)]\n",
    "\n",
    "        self.F = [np.zeros((self.n_neurons, 1)) for _ in range(self.T)]\n",
    "        self.O = [np.zeros((self.n_neurons, 1)) for _ in range(self.T)]\n",
    "        self.I = [np.zeros((self.n_neurons, 1)) for _ in range(self.T)]\n",
    "\n",
    "        self.dUf = np.zeros((self.n_neurons, self.n_input))\n",
    "        self.dbf = np.zeros((self.n_neurons, 1))\n",
    "        self.dWf = np.zeros((self.n_neurons, self.n_neurons))\n",
    "\n",
    "        self.dUi = np.zeros((self.n_neurons, self.n_input))\n",
    "        self.dWi = np.zeros((self.n_neurons, self.n_neurons))\n",
    "        self.dbi = np.zeros((self.n_neurons, 1))\n",
    "        \n",
    "        self.dUo = np.zeros((self.n_neurons, self.n_input))\n",
    "        self.dbo = np.zeros((self.n_neurons, 1))\n",
    "        self.dWo = np.zeros((self.n_neurons, self.n_neurons))\n",
    "\n",
    "        self.dUg = np.zeros((self.n_neurons, self.n_input))\n",
    "        self.dbg = np.zeros((self.n_neurons, 1))\n",
    "        self.dWg = np.zeros((self.n_neurons, self.n_neurons))\n",
    "\n",
    "        self.Sigmf = [Sigmoid() for _ in range(self.T)]\n",
    "        self.Sigmi = [Sigmoid() for _ in range(self.T)]\n",
    "        self.Sigmo = [Sigmoid() for _ in range(self.T)]\n",
    "        self.Tanh1 = [Tanh() for _ in range(self.T)]\n",
    "        self.Tanh2 = [Tanh() for _ in range(self.T)]\n",
    "\n",
    "        ht = self.H[0]\n",
    "        ct = self.C[0]\n",
    "\n",
    "        # LSTM Cell Call\n",
    "        self.H, self.C, self.F, self.O, self.I, self.C_tilde = self.LSTMCELL(X_t, ht, ct)\n",
    "\n",
    "    def LSTMCELL(self, X_t, ht, ct):\n",
    "        for t in range(self.T):\n",
    "            xt = X_t[t].reshape(-1, 1)\n",
    "\n",
    "            # Forget gate\n",
    "            outf = np.dot(self.Uf, xt) + np.dot(self.Wf, ht) + self.bf\n",
    "            self.Sigmf[t].forward(outf)\n",
    "            ft = self.Sigmf[t].output\n",
    "\n",
    "            # Input gate\n",
    "            outi = np.dot(self.Ui, xt) + np.dot(self.Wi, ht) + self.bi\n",
    "            self.Sigmi[t].forward(outi) \n",
    "            it = self.Sigmi[t].output\n",
    "\n",
    "            # Output gate\n",
    "            outo = np.dot(self.Uo, xt) + np.dot(self.Wo, ht) + self.bo\n",
    "            self.Sigmo[t].forward(outo)  \n",
    "            ot = self.Sigmo[t].output\n",
    "\n",
    "            # C tilde\n",
    "            outct_tilde = np.dot(self.Ug, xt) + np.dot(self.Wg, ht) + self.bg\n",
    "            self.Tanh1[t].forward(outct_tilde)\n",
    "            ct_tilde = self.Tanh1[t].output\n",
    "\n",
    "            ct = ft * ct + it * ct_tilde\n",
    "\n",
    "            self.Tanh2[t].forward(ct)\n",
    "            ht = self.Tanh2[t].output * ot\n",
    "\n",
    "            self.H[t + 1] = ht\n",
    "            self.C[t + 1] = ct\n",
    "            self.C_tilde[t] = ct_tilde\n",
    "            self.F[t] = ft\n",
    "            self.O[t] = ot\n",
    "            self.I[t] = it\n",
    "\n",
    "        return self.H, self.C, self.F, self.O, self.I, self.C_tilde\n",
    "\n",
    "    def backward(self, dvalues):\n",
    "        dht = dvalues[-1].reshape(self.n_neurons, 1)\n",
    "\n",
    "        for t in reversed(range(self.T)):\n",
    "            xt = self.X_t[t].reshape(-1, 1)\n",
    "\n",
    "            self.Tanh2[t].backward(dht)\n",
    "            dtanh2 = self.Tanh2[t].dinputs\n",
    "\n",
    "            dhtdtanh = self.O[t] * dtanh2\n",
    "\n",
    "            dctdft = dhtdtanh * self.C[t - 1]\n",
    "            dctdit = dhtdtanh * self.C_tilde[t]\n",
    "            dctct_tilde = dhtdtanh * self.I[t]\n",
    "\n",
    "            self.Tanh1[t].backward(dctct_tilde)\n",
    "            dtanh1 = self.Tanh1[t].dinputs\n",
    "\n",
    "            self.Sigmf[t].backward(dctdft)\n",
    "            dsigmf = self.Sigmf[t].dinput\n",
    "\n",
    "            self.Sigmi[t].backward(dctdit)\n",
    "            dsigmi = self.Sigmi[t].dinput\n",
    "\n",
    "            self.Sigmo[t].backward(dht)\n",
    "            dsigmo = self.Sigmo[t].dinput\n",
    "\n",
    "            self.dUf += np.dot(dsigmf, xt.T)\n",
    "            self.dWf += np.dot(dsigmf, self.H[t-1].T) if t > 0 else 0 \n",
    "            self.dbf += dsigmf\n",
    "\n",
    "            self.dUi += np.dot(dsigmi, xt.T)\n",
    "            self.dWi += np.dot(dsigmi, self.H[t-1].T) if t > 0 else 0 \n",
    "            self.dbi += dsigmi\n",
    "\n",
    "            self.dUo += np.dot(dsigmo, xt.T)\n",
    "            self.dWo += np.dot(dsigmo, self.H[t-1].T) if t > 0 else 0 \n",
    "            self.dbo += dsigmo\n",
    "\n",
    "            self.dUg += np.dot(dtanh1, xt.T)\n",
    "            self.dWg += np.dot(dtanh1, self.H[t-1].T) if t > 0 else 0 \n",
    "            self.dbg += dtanh1\n",
    "\n",
    "            dht = (np.dot(self.Wf.T, dsigmf) + np.dot(self.Wi.T, dsigmi) +\n",
    "                   np.dot(self.Wo.T, dsigmo) + np.dot(self.Wg.T, dtanh1) +\n",
    "                   (dvalues[t-1].reshape(self.n_neurons, 1) if t > 0 else 0))\n",
    "        self.H = self.H "
   ]
  },
  {
   "cell_type": "code",
   "execution_count": 557,
   "metadata": {},
   "outputs": [],
   "source": [
    "lstm = LSTM(60, 100)"
   ]
  },
  {
   "cell_type": "code",
   "execution_count": 559,
   "metadata": {},
   "outputs": [
    {
     "data": {
      "text/plain": [
       "307680"
      ]
     },
     "execution_count": 559,
     "metadata": {},
     "output_type": "execute_result"
    }
   ],
   "source": [
    "T = max(X_train.flatten().shape)\n",
    "T"
   ]
  },
  {
   "cell_type": "code",
   "execution_count": 561,
   "metadata": {},
   "outputs": [],
   "source": [
    "dense1 = DenseLayer(100, 50)\n",
    "dense2 = DenseLayer(50, 1)"
   ]
  },
  {
   "cell_type": "code",
   "execution_count": 563,
   "metadata": {
    "scrolled": true
   },
   "outputs": [
    {
     "name": "stdout",
     "output_type": "stream",
     "text": [
      "Epoch 1/100\n",
      "Current MSSE = 0.0001927836806247682\n",
      "Epoch 2/100\n",
      "Current MSSE = 0.00014092940569124878\n",
      "Epoch 3/100\n",
      "Current MSSE = 0.00014019745862484725\n",
      "Epoch 4/100\n",
      "Current MSSE = 0.0001396546725987429\n",
      "Epoch 5/100\n",
      "Current MSSE = 0.00013911487846783336\n",
      "Epoch 6/100\n",
      "Current MSSE = 0.00013857737400678233\n",
      "Epoch 7/100\n",
      "Current MSSE = 0.00013804214457568452\n",
      "Epoch 8/100\n",
      "Current MSSE = 0.00013750917861206707\n",
      "Epoch 9/100\n",
      "Current MSSE = 0.00013697846466906343\n",
      "Epoch 10/100\n",
      "Current MSSE = 0.000136449991376667\n",
      "Epoch 11/100\n",
      "Current MSSE = 0.00013592374743930593\n",
      "Epoch 12/100\n",
      "Current MSSE = 0.00013539972163511657\n",
      "Epoch 13/100\n",
      "Current MSSE = 0.0001348779028153245\n",
      "Epoch 14/100\n",
      "Current MSSE = 0.0001343582799036381\n",
      "Epoch 15/100\n",
      "Current MSSE = 0.00013384084189564823\n",
      "Epoch 16/100\n",
      "Current MSSE = 0.00013332557785823387\n",
      "Epoch 17/100\n",
      "Current MSSE = 0.00013281247692897394\n",
      "Epoch 18/100\n",
      "Current MSSE = 0.00013230152831556462\n",
      "Epoch 19/100\n",
      "Current MSSE = 0.00013179272129524257\n",
      "Epoch 20/100\n",
      "Current MSSE = 0.00013128604521421366\n",
      "Epoch 21/100\n",
      "Current MSSE = 0.00013078148948708753\n",
      "Epoch 22/100\n",
      "Current MSSE = 0.00013027904359631763\n",
      "Epoch 23/100\n",
      "Current MSSE = 0.00012977869709164652\n",
      "Epoch 24/100\n",
      "Current MSSE = 0.00012928043958955715\n",
      "Epoch 25/100\n",
      "Current MSSE = 0.0001287842607727286\n",
      "Epoch 26/100\n",
      "Current MSSE = 0.00012829015038949822\n",
      "Epoch 27/100\n",
      "Current MSSE = 0.00012779809825332807\n",
      "Epoch 28/100\n",
      "Current MSSE = 0.00012730809424227704\n",
      "Epoch 29/100\n",
      "Current MSSE = 0.00012682012829847808\n",
      "Epoch 30/100\n",
      "Current MSSE = 0.00012633419042762026\n",
      "Epoch 31/100\n",
      "Current MSSE = 0.0001258502706984361\n",
      "Epoch 32/100\n",
      "Current MSSE = 0.0001253683592421937\n",
      "Epoch 33/100\n",
      "Current MSSE = 0.00012488844625219384\n",
      "Epoch 34/100\n",
      "Current MSSE = 0.0001244105219832717\n",
      "Epoch 35/100\n",
      "Current MSSE = 0.00012393457675130402\n",
      "Epoch 36/100\n",
      "Current MSSE = 0.0001234606009327201\n",
      "Epoch 37/100\n",
      "Current MSSE = 0.0001229885849640184\n",
      "Epoch 38/100\n",
      "Current MSSE = 0.0001225185193412867\n",
      "Epoch 39/100\n",
      "Current MSSE = 0.00012205039461972817\n",
      "Epoch 40/100\n",
      "Current MSSE = 0.00012158420141319085\n",
      "Epoch 41/100\n",
      "Current MSSE = 0.00012111993039370203\n",
      "Epoch 42/100\n",
      "Current MSSE = 0.00012065757229100742\n",
      "Epoch 43/100\n",
      "Current MSSE = 0.00012019711789211392\n",
      "Epoch 44/100\n",
      "Current MSSE = 0.00011973855804083751\n",
      "Epoch 45/100\n",
      "Current MSSE = 0.00011928188363735496\n",
      "Epoch 46/100\n",
      "Current MSSE = 0.00011882708563775995\n",
      "Epoch 47/100\n",
      "Current MSSE = 0.00011837415505362333\n",
      "Epoch 48/100\n",
      "Current MSSE = 0.00011792308295155765\n",
      "Epoch 49/100\n",
      "Current MSSE = 0.00011747386045278566\n",
      "Epoch 50/100\n",
      "Current MSSE = 0.0001170264787327129\n",
      "Epoch 51/100\n",
      "Current MSSE = 0.00011658092902050428\n",
      "Epoch 52/100\n",
      "Current MSSE = 0.00011613720259866498\n",
      "Epoch 53/100\n",
      "Current MSSE = 0.00011569529080262469\n",
      "Epoch 54/100\n",
      "Current MSSE = 0.00011525518502032622\n",
      "Epoch 55/100\n",
      "Current MSSE = 0.0001148168766918176\n",
      "Epoch 56/100\n",
      "Current MSSE = 0.00011438035730884858\n",
      "Epoch 57/100\n",
      "Current MSSE = 0.00011394561841446995\n",
      "Epoch 58/100\n",
      "Current MSSE = 0.00011351265160263764\n",
      "Epoch 59/100\n",
      "Current MSSE = 0.00011308144851781962\n",
      "Epoch 60/100\n",
      "Current MSSE = 0.00011265200085460708\n",
      "Epoch 61/100\n",
      "Current MSSE = 0.0001122243003573288\n",
      "Epoch 62/100\n",
      "Current MSSE = 0.0001117983388196694\n",
      "Epoch 63/100\n",
      "Current MSSE = 0.00011137410808429079\n",
      "Epoch 64/100\n",
      "Current MSSE = 0.00011095160004245747\n",
      "Epoch 65/100\n",
      "Current MSSE = 0.00011053080663366514\n",
      "Epoch 66/100\n",
      "Current MSSE = 0.00011011171984527248\n",
      "Epoch 67/100\n",
      "Current MSSE = 0.00010969433171213684\n",
      "Epoch 68/100\n",
      "Current MSSE = 0.00010927863431625271\n",
      "Epoch 69/100\n",
      "Current MSSE = 0.00010886461978639398\n",
      "Epoch 70/100\n",
      "Current MSSE = 0.00010845228029775922\n",
      "Epoch 71/100\n",
      "Current MSSE = 0.00010804160807162015\n",
      "Epoch 72/100\n",
      "Current MSSE = 0.00010763259537497364\n",
      "Epoch 73/100\n",
      "Current MSSE = 0.00010722523452019648\n",
      "Epoch 74/100\n",
      "Current MSSE = 0.00010681951786470356\n",
      "Epoch 75/100\n",
      "Current MSSE = 0.00010641543781060914\n",
      "Epoch 76/100\n",
      "Current MSSE = 0.00010601298680439108\n",
      "Epoch 77/100\n",
      "Current MSSE = 0.00010561215733655816\n",
      "Epoch 78/100\n",
      "Current MSSE = 0.00010521294194132058\n",
      "Epoch 79/100\n",
      "Current MSSE = 0.00010481533319626305\n",
      "Epoch 80/100\n",
      "Current MSSE = 0.00010441932372202138\n",
      "Epoch 81/100\n",
      "Current MSSE = 0.00010402490618196141\n",
      "Epoch 82/100\n",
      "Current MSSE = 0.00010363207328186129\n",
      "Epoch 83/100\n",
      "Current MSSE = 0.00010324081776959634\n",
      "Epoch 84/100\n",
      "Current MSSE = 0.00010285113243482698\n",
      "Epoch 85/100\n",
      "Current MSSE = 0.00010246301010868907\n",
      "Epoch 86/100\n",
      "Current MSSE = 0.00010207644366348756\n",
      "Epoch 87/100\n",
      "Current MSSE = 0.00010169142601239244\n",
      "Epoch 88/100\n",
      "Current MSSE = 0.00010130795010913755\n",
      "Epoch 89/100\n",
      "Current MSSE = 0.00010092600894772222\n",
      "Epoch 90/100\n",
      "Current MSSE = 0.00010054559556211526\n",
      "Epoch 91/100\n",
      "Current MSSE = 0.00010016670302596191\n",
      "Epoch 92/100\n",
      "Current MSSE = 9.978932445229328e-05\n",
      "Epoch 93/100\n",
      "Current MSSE = 9.941345299323815e-05\n",
      "Epoch 94/100\n",
      "Current MSSE = 9.903908183973774e-05\n",
      "Epoch 95/100\n",
      "Current MSSE = 9.866620422126266e-05\n",
      "Epoch 96/100\n",
      "Current MSSE = 9.829481340553241e-05\n",
      "Epoch 97/100\n",
      "Current MSSE = 9.792490269823771e-05\n",
      "Epoch 98/100\n",
      "Current MSSE = 9.755646544276468e-05\n",
      "Epoch 99/100\n",
      "Current MSSE = 9.718949501992192e-05\n",
      "Epoch 100/100\n",
      "Current MSSE = 9.682398484766988e-05\n"
     ]
    }
   ],
   "source": [
    "lr = 0.0001\n",
    "epoch = 100\n",
    "monitor = np.zeros((100))\n",
    "\n",
    "batch_size = 5128  \n",
    "\n",
    "\n",
    "for i in range(epoch):\n",
    "    print(f\"Epoch {i+1}/{epoch}\")\n",
    "\n",
    "    lstm.forward(X_train) \n",
    "    H = np.array(lstm.H)\n",
    "    H = H.reshape((H.shape[0], H.shape[1])) \n",
    "\n",
    "    dense1.forward(H[1:, :])\n",
    "    dense2.forward(dense1.output)\n",
    "\n",
    "    y_hat = dense2.output\n",
    "    \n",
    "    y_train1 = y_train1[:y_hat.shape[0]].reshape(-1, 1)\n",
    "\n",
    "    dy = y_hat - y_train1\n",
    "\n",
    "    L = 0.5 * np.mean(dy**2)\n",
    "    monitor[i] = L\n",
    "    \n",
    "\n",
    "    dense2.backward(dy)\n",
    "    dense1.backward(dense2.dinput)\n",
    "    lstm.backward(dense1.dinput)\n",
    "\n",
    "\n",
    "    dense1.weights -= lr * dense1.dweights\n",
    "    dense1.biases -= lr * dense1.dbiases\n",
    "    dense2.weights -= lr * dense2.dweights\n",
    "    dense2.biases -= lr * dense2.dbiases\n",
    "\n",
    "    lstm.Uf -= lr * lstm.dUf\n",
    "    lstm.Ui -= lr * lstm.dUi\n",
    "    lstm.Uo -= lr * lstm.dUo\n",
    "    lstm.Ug -= lr * lstm.dUg\n",
    "    lstm.Wf -= lr * lstm.dWf\n",
    "    lstm.Wi -= lr * lstm.dWi\n",
    "    lstm.Wo -= lr * lstm.dWo\n",
    "    lstm.Wg -= lr * lstm.dWg\n",
    "    lstm.bf -= lr * lstm.dbf\n",
    "    lstm.bi -= lr * lstm.dbi\n",
    "    lstm.bo -= lr * lstm.dbo\n",
    "    lstm.bg -= lr * lstm.dbg\n",
    "\n",
    "\n",
    "    print(f'Current MSSE = {L}')"
   ]
  },
  {
   "cell_type": "code",
   "execution_count": null,
   "metadata": {},
   "outputs": [],
   "source": []
  }
 ],
 "metadata": {
  "colab": {
   "provenance": []
  },
  "kernelspec": {
   "display_name": "Python 3 (ipykernel)",
   "language": "python",
   "name": "python3"
  },
  "language_info": {
   "codemirror_mode": {
    "name": "ipython",
    "version": 3
   },
   "file_extension": ".py",
   "mimetype": "text/x-python",
   "name": "python",
   "nbconvert_exporter": "python",
   "pygments_lexer": "ipython3",
   "version": "3.12.4"
  }
 },
 "nbformat": 4,
 "nbformat_minor": 4
}
